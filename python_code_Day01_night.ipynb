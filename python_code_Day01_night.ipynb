{
  "nbformat": 4,
  "nbformat_minor": 0,
  "metadata": {
    "colab": {
      "provenance": [],
      "authorship_tag": "ABX9TyPf9J4QxTRnJTR0gLkAB9f7",
      "include_colab_link": true
    },
    "kernelspec": {
      "name": "python3",
      "display_name": "Python 3"
    },
    "language_info": {
      "name": "python"
    }
  },
  "cells": [
    {
      "cell_type": "markdown",
      "metadata": {
        "id": "view-in-github",
        "colab_type": "text"
      },
      "source": [
        "<a href=\"https://colab.research.google.com/github/student-rabbit/advancedDataPractice/blob/main/python_code_Day01_night.ipynb\" target=\"_parent\"><img src=\"https://colab.research.google.com/assets/colab-badge.svg\" alt=\"Open In Colab\"/></a>"
      ]
    },
    {
      "cell_type": "markdown",
      "source": [
        "### while"
      ],
      "metadata": {
        "id": "pTx7T9PS0tVA"
      }
    },
    {
      "cell_type": "code",
      "source": [
        "i = 0\n",
        "while i <10:\n",
        "  print(i)\n",
        "  i += 1\n",
        "\n",
        "print('end while')"
      ],
      "metadata": {
        "colab": {
          "base_uri": "https://localhost:8080/"
        },
        "id": "4MaT6sD60waw",
        "outputId": "a4e32d51-f0e4-4d67-de4b-c0b7ccd816ee"
      },
      "execution_count": null,
      "outputs": [
        {
          "output_type": "stream",
          "name": "stdout",
          "text": [
            "0\n",
            "1\n",
            "2\n",
            "3\n",
            "4\n",
            "5\n",
            "6\n",
            "7\n",
            "8\n",
            "9\n",
            "end while\n"
          ]
        }
      ]
    },
    {
      "cell_type": "code",
      "source": [
        "i = 0\n",
        "while i <10:\n",
        "  print(i)\n",
        "  i += 1\n",
        "\n",
        "  if i == 5:\n",
        "    print('break')\n",
        "    break # 반복 블록 안에서 반복 실행을 강제로 탈출\n",
        "\n",
        "print('end while')"
      ],
      "metadata": {
        "colab": {
          "base_uri": "https://localhost:8080/"
        },
        "id": "1iNR5vDr0434",
        "outputId": "ba39e2db-3516-4535-8e7e-748711f0d6be"
      },
      "execution_count": null,
      "outputs": [
        {
          "output_type": "stream",
          "name": "stdout",
          "text": [
            "0\n",
            "1\n",
            "2\n",
            "3\n",
            "4\n",
            "break\n",
            "end while\n"
          ]
        }
      ]
    },
    {
      "cell_type": "markdown",
      "source": [
        "### ex-18"
      ],
      "metadata": {
        "id": "jPvkj3Vm1wag"
      }
    },
    {
      "cell_type": "code",
      "source": [
        "n = int(input(\"숫자 : \"))\n",
        "\n",
        "count = 0\n",
        "while n > 0:\n",
        "  print(\"현재 숫자 : \", n)\n",
        "  n -= 1\n",
        "  count += 1\n",
        "\n",
        "print(n, count)"
      ],
      "metadata": {
        "colab": {
          "base_uri": "https://localhost:8080/"
        },
        "id": "2YO__J6u10JP",
        "outputId": "4da03ce2-51ab-48d9-a9e7-abb144fe9267"
      },
      "execution_count": null,
      "outputs": [
        {
          "output_type": "stream",
          "name": "stdout",
          "text": [
            "숫자 : 5\n",
            "현재 숫자 :  5\n",
            "현재 숫자 :  4\n",
            "현재 숫자 :  3\n",
            "현재 숫자 :  2\n",
            "현재 숫자 :  1\n",
            "0 5\n"
          ]
        }
      ]
    },
    {
      "cell_type": "markdown",
      "source": [
        "\n",
        "### ex-23"
      ],
      "metadata": {
        "id": "GCeGQQI-2ejH"
      }
    },
    {
      "cell_type": "code",
      "source": [
        "password = '1234'\n",
        "\n",
        "while True:\n",
        "  user_pw = input('패스워드 : ')\n",
        "\n",
        "  if user_pw == password:\n",
        "    print(\"로그인 성공\")\n",
        "    break\n",
        "  else:\n",
        "    print(\"로그인 실패, 다시 입력하세요.\")"
      ],
      "metadata": {
        "colab": {
          "base_uri": "https://localhost:8080/"
        },
        "id": "ltXQYYRx2nTO",
        "outputId": "73d0d11e-3e4b-488a-8432-57c41692ec35"
      },
      "execution_count": null,
      "outputs": [
        {
          "output_type": "stream",
          "name": "stdout",
          "text": [
            "패스워드 : 12\n",
            "로그인 실패, 다시 입력하세요.\n",
            "패스워드 : 1234\n",
            "로그인 성공\n"
          ]
        }
      ]
    },
    {
      "cell_type": "markdown",
      "source": [
        "### for"
      ],
      "metadata": {
        "id": "l6nVqabv48hg"
      }
    },
    {
      "cell_type": "code",
      "source": [
        "for i in range(5): # start : 0(default), end : 5\n",
        "  print(i, 'python')"
      ],
      "metadata": {
        "colab": {
          "base_uri": "https://localhost:8080/"
        },
        "id": "ijAql1Z55Bse",
        "outputId": "a7bea82f-7e3a-4418-d141-e61471b04a57"
      },
      "execution_count": null,
      "outputs": [
        {
          "output_type": "stream",
          "name": "stdout",
          "text": [
            "0 python\n",
            "1 python\n",
            "2 python\n",
            "3 python\n",
            "4 python\n"
          ]
        }
      ]
    },
    {
      "cell_type": "code",
      "source": [
        "for i in range(1,5): # start : 1(default), end : 5\n",
        "  print(i, 'python')"
      ],
      "metadata": {
        "colab": {
          "base_uri": "https://localhost:8080/"
        },
        "id": "sxSC6RMw5YjE",
        "outputId": "d1d7a139-b93f-4949-f57d-b789ead9b551"
      },
      "execution_count": null,
      "outputs": [
        {
          "output_type": "stream",
          "name": "stdout",
          "text": [
            "1 python\n",
            "2 python\n",
            "3 python\n",
            "4 python\n"
          ]
        }
      ]
    },
    {
      "cell_type": "code",
      "source": [
        "for i in range(1,10, 2): # 2씩 증가\n",
        "  print(i, 'python')"
      ],
      "metadata": {
        "colab": {
          "base_uri": "https://localhost:8080/"
        },
        "id": "-1LITf1d6Uwu",
        "outputId": "46ac0432-e728-4ebf-b2e8-954bbf945b5b"
      },
      "execution_count": null,
      "outputs": [
        {
          "output_type": "stream",
          "name": "stdout",
          "text": [
            "1 python\n",
            "3 python\n",
            "5 python\n",
            "7 python\n",
            "9 python\n"
          ]
        }
      ]
    },
    {
      "cell_type": "markdown",
      "source": [
        "### ex-20"
      ],
      "metadata": {
        "id": "BEFwqqXn6qFn"
      }
    },
    {
      "cell_type": "code",
      "source": [
        "for i in range (3, 100, 3):\n",
        "  print(i, end= ' ')"
      ],
      "metadata": {
        "colab": {
          "base_uri": "https://localhost:8080/"
        },
        "id": "OqdABgCh6uqO",
        "outputId": "4247f1b1-5dd4-47a2-e308-bae90b1b8f95"
      },
      "execution_count": null,
      "outputs": [
        {
          "output_type": "stream",
          "name": "stdout",
          "text": [
            "3 6 9 12 15 18 21 24 27 30 33 36 39 42 45 48 51 54 57 60 63 66 69 72 75 78 81 84 87 90 93 96 99 "
          ]
        }
      ]
    },
    {
      "cell_type": "code",
      "source": [
        "j = 0\n",
        "for i in range(33):\n",
        "  j = j + 3\n",
        "  print(j, end = ' ')"
      ],
      "metadata": {
        "colab": {
          "base_uri": "https://localhost:8080/"
        },
        "id": "6_JlCYqW8Wen",
        "outputId": "b9a5528b-8586-4394-883b-a4868dee930a"
      },
      "execution_count": null,
      "outputs": [
        {
          "output_type": "stream",
          "name": "stdout",
          "text": [
            "3 6 9 12 15 18 21 24 27 30 33 36 39 42 45 48 51 54 57 60 63 66 69 72 75 78 81 84 87 90 93 96 99 "
          ]
        }
      ]
    },
    {
      "cell_type": "code",
      "source": [
        "for i in range(1, 100):\n",
        "  if i % 3 == 0:\n",
        "    print(i, end = ' ')"
      ],
      "metadata": {
        "colab": {
          "base_uri": "https://localhost:8080/"
        },
        "id": "aXlGw6ZF8kC3",
        "outputId": "5f6b7786-d0fa-44ce-d10e-0b9a61ea884d"
      },
      "execution_count": null,
      "outputs": [
        {
          "output_type": "stream",
          "name": "stdout",
          "text": [
            "3 6 9 12 15 18 21 24 27 30 33 36 39 42 45 48 51 54 57 60 63 66 69 72 75 78 81 84 87 90 93 96 99 "
          ]
        }
      ]
    },
    {
      "cell_type": "markdown",
      "source": [
        "### ex-21"
      ],
      "metadata": {
        "id": "1u6x5Tbd9YFM"
      }
    },
    {
      "cell_type": "code",
      "source": [
        "n = int(input(\"단수를 입력하세요.\"))\n",
        "\n",
        "for i in range (1, 10):\n",
        "    print(f\"{n} x {i} = {n*i}\")"
      ],
      "metadata": {
        "colab": {
          "base_uri": "https://localhost:8080/"
        },
        "id": "2g59zAN99aZs",
        "outputId": "97f2bfca-1004-4abb-8f47-eb0b2f381d7c"
      },
      "execution_count": null,
      "outputs": [
        {
          "output_type": "stream",
          "name": "stdout",
          "text": [
            "단수를 입력하세요.5\n",
            "5 x 1 = 5\n",
            "5 x 2 = 10\n",
            "5 x 3 = 15\n",
            "5 x 4 = 20\n",
            "5 x 5 = 25\n",
            "5 x 6 = 30\n",
            "5 x 7 = 35\n",
            "5 x 8 = 40\n",
            "5 x 9 = 45\n"
          ]
        }
      ]
    },
    {
      "cell_type": "markdown",
      "source": [
        "### ex-24"
      ],
      "metadata": {
        "id": "n-dhyTKoB0RV"
      }
    },
    {
      "cell_type": "code",
      "source": [
        "password = '1234'\n",
        "\n",
        "for i in range(5):\n",
        "  user_pw = input('패스워드 : ')\n",
        "\n",
        "  if user_pw == password:\n",
        "    print(\"로그인 성공\")\n",
        "    break\n",
        "  else:\n",
        "    print(\"로그인 실패, 다시 입력하세요.\")\n",
        "# 가능한 케이스: (i < 4, 성공), (i == 4, 성공), (i == 4 실패)"
      ],
      "metadata": {
        "colab": {
          "base_uri": "https://localhost:8080/"
        },
        "id": "QfhBbsN6Ftmb",
        "outputId": "e500e640-6cb9-4d39-b684-538480bed0df"
      },
      "execution_count": null,
      "outputs": [
        {
          "output_type": "stream",
          "name": "stdout",
          "text": [
            "패스워드 : 12\n",
            "로그인 실패, 다시 입력하세요.\n",
            "패스워드 : 32\n",
            "로그인 실패, 다시 입력하세요.\n",
            "패스워드 : 142\n",
            "로그인 실패, 다시 입력하세요.\n",
            "패스워드 : 123\n",
            "로그인 실패, 다시 입력하세요.\n",
            "패스워드 : 3\n",
            "로그인 실패, 다시 입력하세요.\n"
          ]
        }
      ]
    },
    {
      "cell_type": "code",
      "source": [
        "password = '1234'\n",
        "\n",
        "success = False\n",
        "for i in range(5):\n",
        "  # 잠금 기록이 있는지 확인\n",
        "  user_pw = input('패스워드 : ')\n",
        "\n",
        "  if user_pw == password:\n",
        "    print(\"로그인 성공\")\n",
        "    success = True\n",
        "    break\n",
        "  else:\n",
        "    print(\"로그인 실패, 다시 입력하세요.\")\n",
        "\n",
        "# 가능한 케이스: (i < 4, 성공), (i == 4, 성공), (i == 4 실패)\n",
        "if not success and i == 4:\n",
        "  print(\"로그인 시도 횟수 초과\")\n",
        "\n",
        "  # 아이디 잠금, 잠금 시간 기록\n"
      ],
      "metadata": {
        "colab": {
          "base_uri": "https://localhost:8080/"
        },
        "id": "avivy-cqB2KD",
        "outputId": "bd57b007-76c6-477f-ba46-ae05064af6bf"
      },
      "execution_count": null,
      "outputs": [
        {
          "output_type": "stream",
          "name": "stdout",
          "text": [
            "패스워드 : 1\n",
            "로그인 실패, 다시 입력하세요.\n",
            "패스워드 : 3\n",
            "로그인 실패, 다시 입력하세요.\n",
            "패스워드 : 132\n",
            "로그인 실패, 다시 입력하세요.\n",
            "패스워드 : 142\n",
            "로그인 실패, 다시 입력하세요.\n",
            "패스워드 : 342\n",
            "로그인 실패, 다시 입력하세요.\n",
            "로그인 시도 횟수 초과\n"
          ]
        }
      ]
    },
    {
      "cell_type": "markdown",
      "source": [
        "### 다중 반복"
      ],
      "metadata": {
        "id": "AVEM2X7pGgsE"
      }
    },
    {
      "cell_type": "code",
      "source": [
        "for i in range(5):\n",
        "  for j in range(5):\n",
        "    print(i, j, end = \"   \")\n",
        "  print(end = \"\\n\")"
      ],
      "metadata": {
        "colab": {
          "base_uri": "https://localhost:8080/"
        },
        "id": "DhSZJMLuHM55",
        "outputId": "e93102c6-5423-47bc-8dbf-f305c37c8f85"
      },
      "execution_count": null,
      "outputs": [
        {
          "output_type": "stream",
          "name": "stdout",
          "text": [
            "0 0   0 1   0 2   0 3   0 4   \n",
            "1 0   1 1   1 2   1 3   1 4   \n",
            "2 0   2 1   2 2   2 3   2 4   \n",
            "3 0   3 1   3 2   3 3   3 4   \n",
            "4 0   4 1   4 2   4 3   4 4   \n"
          ]
        }
      ]
    },
    {
      "cell_type": "markdown",
      "source": [
        "### ex-27"
      ],
      "metadata": {
        "id": "HovEdAd7IGRa"
      }
    },
    {
      "cell_type": "code",
      "source": [
        "for i in range(2,10):\n",
        "  for j in range(2,10):\n",
        "    print(f\"{j} x {i} = {i * j:>2}\", end = '   ')\n",
        "  print(end = \"\\n\")"
      ],
      "metadata": {
        "colab": {
          "base_uri": "https://localhost:8080/"
        },
        "id": "65k6GgcPIKOC",
        "outputId": "3b783add-47f4-4647-eefb-6684d128f00b"
      },
      "execution_count": null,
      "outputs": [
        {
          "output_type": "stream",
          "name": "stdout",
          "text": [
            "2 x 2 =  4   3 x 2 =  6   4 x 2 =  8   5 x 2 = 10   6 x 2 = 12   7 x 2 = 14   8 x 2 = 16   9 x 2 = 18   \n",
            "2 x 3 =  6   3 x 3 =  9   4 x 3 = 12   5 x 3 = 15   6 x 3 = 18   7 x 3 = 21   8 x 3 = 24   9 x 3 = 27   \n",
            "2 x 4 =  8   3 x 4 = 12   4 x 4 = 16   5 x 4 = 20   6 x 4 = 24   7 x 4 = 28   8 x 4 = 32   9 x 4 = 36   \n",
            "2 x 5 = 10   3 x 5 = 15   4 x 5 = 20   5 x 5 = 25   6 x 5 = 30   7 x 5 = 35   8 x 5 = 40   9 x 5 = 45   \n",
            "2 x 6 = 12   3 x 6 = 18   4 x 6 = 24   5 x 6 = 30   6 x 6 = 36   7 x 6 = 42   8 x 6 = 48   9 x 6 = 54   \n",
            "2 x 7 = 14   3 x 7 = 21   4 x 7 = 28   5 x 7 = 35   6 x 7 = 42   7 x 7 = 49   8 x 7 = 56   9 x 7 = 63   \n",
            "2 x 8 = 16   3 x 8 = 24   4 x 8 = 32   5 x 8 = 40   6 x 8 = 48   7 x 8 = 56   8 x 8 = 64   9 x 8 = 72   \n",
            "2 x 9 = 18   3 x 9 = 27   4 x 9 = 36   5 x 9 = 45   6 x 9 = 54   7 x 9 = 63   8 x 9 = 72   9 x 9 = 81   \n"
          ]
        }
      ]
    },
    {
      "cell_type": "markdown",
      "source": [
        "### 시퀀스로써의 문자"
      ],
      "metadata": {
        "id": "jJBkxqiFJtJo"
      }
    },
    {
      "cell_type": "code",
      "source": [
        "s = \"python\"\n",
        "\n",
        "len(s), s[3]"
      ],
      "metadata": {
        "colab": {
          "base_uri": "https://localhost:8080/"
        },
        "id": "d8Ur9vgvKJq-",
        "outputId": "9668d181-41cc-4b7d-b3ca-65beb1c2c428"
      },
      "execution_count": null,
      "outputs": [
        {
          "output_type": "execute_result",
          "data": {
            "text/plain": [
              "(6, 'h')"
            ]
          },
          "metadata": {},
          "execution_count": 45
        }
      ]
    },
    {
      "cell_type": "code",
      "source": [
        "#    012345\n",
        "s = \"python\"\n",
        "\n",
        "len(s), s[3], s[6] # 범위가 맞지 앉는다."
      ],
      "metadata": {
        "colab": {
          "base_uri": "https://localhost:8080/",
          "height": 186
        },
        "id": "nZsg0OI-DxWs",
        "outputId": "693848c1-ee25-447c-c0b1-7f328c1edd0a"
      },
      "execution_count": null,
      "outputs": [
        {
          "output_type": "error",
          "ename": "IndexError",
          "evalue": "string index out of range",
          "traceback": [
            "\u001b[0;31m---------------------------------------------------------------------------\u001b[0m",
            "\u001b[0;31mIndexError\u001b[0m                                Traceback (most recent call last)",
            "\u001b[0;32m<ipython-input-2-ef646c60810c>\u001b[0m in \u001b[0;36m<cell line: 4>\u001b[0;34m()\u001b[0m\n\u001b[1;32m      2\u001b[0m \u001b[0ms\u001b[0m \u001b[0;34m=\u001b[0m \u001b[0;34m\"python\"\u001b[0m\u001b[0;34m\u001b[0m\u001b[0;34m\u001b[0m\u001b[0m\n\u001b[1;32m      3\u001b[0m \u001b[0;34m\u001b[0m\u001b[0m\n\u001b[0;32m----> 4\u001b[0;31m \u001b[0mlen\u001b[0m\u001b[0;34m(\u001b[0m\u001b[0ms\u001b[0m\u001b[0;34m)\u001b[0m\u001b[0;34m,\u001b[0m \u001b[0ms\u001b[0m\u001b[0;34m[\u001b[0m\u001b[0;36m3\u001b[0m\u001b[0;34m]\u001b[0m\u001b[0;34m,\u001b[0m \u001b[0ms\u001b[0m\u001b[0;34m[\u001b[0m\u001b[0;36m6\u001b[0m\u001b[0;34m]\u001b[0m\u001b[0;34m\u001b[0m\u001b[0;34m\u001b[0m\u001b[0m\n\u001b[0m",
            "\u001b[0;31mIndexError\u001b[0m: string index out of range"
          ]
        }
      ]
    },
    {
      "cell_type": "markdown",
      "source": [
        "### tuple"
      ],
      "metadata": {
        "id": "_Y_JNDQ9LN8B"
      }
    },
    {
      "cell_type": "code",
      "source": [
        "zoo = ('python', 'elephant', 'penguin')\n",
        "type(zoo), len(zoo), zoo[0]"
      ],
      "metadata": {
        "colab": {
          "base_uri": "https://localhost:8080/"
        },
        "id": "ZkVnZu9eK-w5",
        "outputId": "08992b82-2507-4f7d-9915-13f81384ac09"
      },
      "execution_count": null,
      "outputs": [
        {
          "output_type": "execute_result",
          "data": {
            "text/plain": [
              "(tuple, 3, 'python')"
            ]
          },
          "metadata": {},
          "execution_count": 46
        }
      ]
    },
    {
      "cell_type": "code",
      "source": [
        "# 항목 하나짜리 튜플\n",
        "singlenton = (3,) # == 3 3을 먼저 계산하라 느낌\n",
        "type(singlenton)"
      ],
      "metadata": {
        "colab": {
          "base_uri": "https://localhost:8080/"
        },
        "id": "M_-LejHTLQNu",
        "outputId": "d4f65f19-507d-4cb3-80cd-567351e69612"
      },
      "execution_count": null,
      "outputs": [
        {
          "output_type": "execute_result",
          "data": {
            "text/plain": [
              "tuple"
            ]
          },
          "metadata": {},
          "execution_count": 47
        }
      ]
    },
    {
      "cell_type": "code",
      "source": [
        "# 패킹과 언패킹\n",
        "number = 1,2,3 # 패킹\n",
        "print(number)\n",
        "\n",
        "a,b,c = number # 언패킹\n",
        "print(a,b,c)"
      ],
      "metadata": {
        "colab": {
          "base_uri": "https://localhost:8080/"
        },
        "id": "UC1XLAnbLjO6",
        "outputId": "a65e1d81-f863-4581-aa22-2831ba4b4efc"
      },
      "execution_count": null,
      "outputs": [
        {
          "output_type": "execute_result",
          "data": {
            "text/plain": [
              "(1, 2, 3)"
            ]
          },
          "metadata": {},
          "execution_count": 48
        }
      ]
    },
    {
      "cell_type": "code",
      "source": [
        "# 튜플은 불변\n",
        "zoo[0] = 'anaconda'"
      ],
      "metadata": {
        "colab": {
          "base_uri": "https://localhost:8080/",
          "height": 167
        },
        "id": "WiCY0yFlLqdx",
        "outputId": "ad90ab80-2c1f-479b-d19b-b05a8a553b68"
      },
      "execution_count": null,
      "outputs": [
        {
          "output_type": "error",
          "ename": "TypeError",
          "evalue": "'tuple' object does not support item assignment",
          "traceback": [
            "\u001b[0;31m---------------------------------------------------------------------------\u001b[0m",
            "\u001b[0;31mTypeError\u001b[0m                                 Traceback (most recent call last)",
            "\u001b[0;32m<ipython-input-49-b9295b646513>\u001b[0m in \u001b[0;36m<cell line: 2>\u001b[0;34m()\u001b[0m\n\u001b[1;32m      1\u001b[0m \u001b[0;31m# 튜플은 불변\u001b[0m\u001b[0;34m\u001b[0m\u001b[0;34m\u001b[0m\u001b[0m\n\u001b[0;32m----> 2\u001b[0;31m \u001b[0mzoo\u001b[0m\u001b[0;34m[\u001b[0m\u001b[0;36m0\u001b[0m\u001b[0;34m]\u001b[0m \u001b[0;34m=\u001b[0m \u001b[0;34m'anaconda'\u001b[0m\u001b[0;34m\u001b[0m\u001b[0;34m\u001b[0m\u001b[0m\n\u001b[0m",
            "\u001b[0;31mTypeError\u001b[0m: 'tuple' object does not support item assignment"
          ]
        }
      ]
    },
    {
      "cell_type": "markdown",
      "source": [
        "### list"
      ],
      "metadata": {
        "id": "IE83DrcEPnau"
      }
    },
    {
      "cell_type": "code",
      "source": [
        "shoplist = ['apple', 'mango', 'carrot', 'banana']\n",
        "print(type(shoplist), len(shoplist), shoplist[0])\n",
        "\n",
        "shoplist[0] = 'lego'\n",
        "shoplist"
      ],
      "metadata": {
        "colab": {
          "base_uri": "https://localhost:8080/"
        },
        "id": "HvRqoWJyPpbf",
        "outputId": "44293475-235e-47b0-add7-42d92466b2a3"
      },
      "execution_count": null,
      "outputs": [
        {
          "output_type": "stream",
          "name": "stdout",
          "text": [
            "<class 'list'> 4 apple\n"
          ]
        },
        {
          "output_type": "execute_result",
          "data": {
            "text/plain": [
              "['lego', 'mango', 'carrot', 'banana']"
            ]
          },
          "metadata": {},
          "execution_count": 50
        }
      ]
    },
    {
      "cell_type": "code",
      "source": [
        "shoplist.append('rice')\n",
        "shoplist"
      ],
      "metadata": {
        "colab": {
          "base_uri": "https://localhost:8080/"
        },
        "id": "DA-CbV7NP_eX",
        "outputId": "3e6bb5f2-5ce9-4458-a059-1e54749bed04"
      },
      "execution_count": null,
      "outputs": [
        {
          "output_type": "execute_result",
          "data": {
            "text/plain": [
              "['lego', 'mango', 'carrot', 'banana', 'rice']"
            ]
          },
          "metadata": {},
          "execution_count": 59
        }
      ]
    },
    {
      "cell_type": "code",
      "source": [
        "del shoplist[1]\n",
        "shoplist"
      ],
      "metadata": {
        "colab": {
          "base_uri": "https://localhost:8080/"
        },
        "id": "RZOhc1-mQMUS",
        "outputId": "d6752568-b6a8-41bc-a586-489c91adce02"
      },
      "execution_count": null,
      "outputs": [
        {
          "output_type": "execute_result",
          "data": {
            "text/plain": [
              "['lego', 'carrot', 'banana', 'rice']"
            ]
          },
          "metadata": {},
          "execution_count": 60
        }
      ]
    },
    {
      "cell_type": "markdown",
      "source": [
        "### ex-28"
      ],
      "metadata": {
        "id": "jnf3k-cUQtPB"
      }
    },
    {
      "cell_type": "code",
      "source": [
        "teams = ['랜더스', '자이언츠', '트윈스',\n",
        "         '다이노스','베어스', '타이거즈',\n",
        "         '히어로즈', '라이온즈', '이글스', '위즈']\n",
        "for i in range(len(teams)):\n",
        "  print(f'{i+1:>2}위: {teams[i]}')\n",
        "\n",
        "print(\"-\"*20)\n",
        "\n",
        "for team in teams:\n",
        "  print(team)\n",
        "\n",
        "print(\"-\"*20)\n",
        "\n",
        "for i,team in enumerate(teams):\n",
        "  print(f'{i+1:>2}위: {teams[i]}')"
      ],
      "metadata": {
        "colab": {
          "base_uri": "https://localhost:8080/"
        },
        "id": "fPJInSrHQ52Y",
        "outputId": "ac58f553-014a-4489-ee29-64f03dadf2b7"
      },
      "execution_count": null,
      "outputs": [
        {
          "output_type": "stream",
          "name": "stdout",
          "text": [
            " 1위: 랜더스\n",
            " 2위: 자이언츠\n",
            " 3위: 트윈스\n",
            " 4위: 다이노스\n",
            " 5위: 베어스\n",
            " 6위: 타이거즈\n",
            " 7위: 히어로즈\n",
            " 8위: 라이온즈\n",
            " 9위: 이글스\n",
            "10위: 위즈\n",
            "--------------------\n",
            "랜더스\n",
            "자이언츠\n",
            "트윈스\n",
            "다이노스\n",
            "베어스\n",
            "타이거즈\n",
            "히어로즈\n",
            "라이온즈\n",
            "이글스\n",
            "위즈\n",
            "--------------------\n",
            " 1위: 랜더스\n",
            " 2위: 자이언츠\n",
            " 3위: 트윈스\n",
            " 4위: 다이노스\n",
            " 5위: 베어스\n",
            " 6위: 타이거즈\n",
            " 7위: 히어로즈\n",
            " 8위: 라이온즈\n",
            " 9위: 이글스\n",
            "10위: 위즈\n"
          ]
        }
      ]
    },
    {
      "cell_type": "code",
      "source": [
        "for c in \"python\":\n",
        "  print(c)"
      ],
      "metadata": {
        "colab": {
          "base_uri": "https://localhost:8080/"
        },
        "id": "mKO2vcU7RfKR",
        "outputId": "08819e6c-6566-49ad-95d8-7cc9b87aeb55"
      },
      "execution_count": null,
      "outputs": [
        {
          "output_type": "stream",
          "name": "stdout",
          "text": [
            "p\n",
            "y\n",
            "t\n",
            "h\n",
            "o\n",
            "n\n"
          ]
        }
      ]
    },
    {
      "cell_type": "markdown",
      "source": [
        "### ex-30"
      ],
      "metadata": {
        "id": "7tuLf-sfStm3"
      }
    },
    {
      "cell_type": "code",
      "source": [
        "#         국어   수학 영어\n",
        "jisoo =   [90,  85,  93]\n",
        "mansoo =  [78,  92,  89]\n",
        "\n",
        "# 아래 두 가지 방식 중 한 가지 방식을 통해 작성\n",
        "# for i in range(len(teams)): <-----------------\n",
        "#   print(f'{i+1:>2}위: {teams[i]}')\n",
        "\n",
        "# for i,team in enumerate(teams):\n",
        "#   print(f'{i+1:>2}위: {teams[i]}')\n",
        "\n",
        "score = []\n",
        "for i in range(len(jisoo)):\n",
        "  score.append(jisoo[i] + mansoo[i])\n",
        "\n",
        "score"
      ],
      "metadata": {
        "colab": {
          "base_uri": "https://localhost:8080/"
        },
        "id": "u7XJgTF0SvjQ",
        "outputId": "0b0bcb47-fc25-43c7-b7b7-ba235c8a3274"
      },
      "execution_count": null,
      "outputs": [
        {
          "output_type": "execute_result",
          "data": {
            "text/plain": [
              "[168, 177, 182]"
            ]
          },
          "metadata": {},
          "execution_count": 72
        }
      ]
    },
    {
      "cell_type": "markdown",
      "source": [
        "### 슬라이싱"
      ],
      "metadata": {
        "id": "j8oMqwo3VjJr"
      }
    },
    {
      "cell_type": "code",
      "source": [
        "#     0  1  2  3  4  5  6  7\n",
        "L = [ 1, 2, 3, 4, 5, 6, 7, 8]\n",
        "#    -8 -7 -6 -5 -4 -3 -2 -1\n",
        "\n",
        "# 인덱싱\n",
        "print(L[0])\n",
        "\n",
        "# 음수 인덱스\n",
        "L[-1], L[-2]"
      ],
      "metadata": {
        "colab": {
          "base_uri": "https://localhost:8080/"
        },
        "id": "-lJz-9LBVklj",
        "outputId": "864ffcf9-4adf-4217-d149-cf17b4673f52"
      },
      "execution_count": null,
      "outputs": [
        {
          "output_type": "stream",
          "name": "stdout",
          "text": [
            "1\n"
          ]
        },
        {
          "output_type": "execute_result",
          "data": {
            "text/plain": [
              "(8, 7)"
            ]
          },
          "metadata": {},
          "execution_count": 80
        }
      ]
    },
    {
      "cell_type": "code",
      "source": [
        "# 슬라이싱 : start:end:stride\n",
        "L[2:6], L[:6], L[2:]"
      ],
      "metadata": {
        "colab": {
          "base_uri": "https://localhost:8080/"
        },
        "id": "Byeuh4AeVqdy",
        "outputId": "9dba19b4-a79a-4c7c-da93-fb9c79166ff5"
      },
      "execution_count": null,
      "outputs": [
        {
          "output_type": "execute_result",
          "data": {
            "text/plain": [
              "([3, 4, 5, 6], [1, 2, 3, 4, 5, 6], [3, 4, 5, 6, 7, 8])"
            ]
          },
          "metadata": {},
          "execution_count": 77
        }
      ]
    },
    {
      "cell_type": "code",
      "source": [
        "# 슬라이싱 음수 인덱스\n",
        "L[-2:]"
      ],
      "metadata": {
        "colab": {
          "base_uri": "https://localhost:8080/"
        },
        "id": "QOK1H9fgV7tW",
        "outputId": "dab32365-7909-4c95-9048-a181553f6162"
      },
      "execution_count": null,
      "outputs": [
        {
          "output_type": "execute_result",
          "data": {
            "text/plain": [
              "[7, 8]"
            ]
          },
          "metadata": {},
          "execution_count": 81
        }
      ]
    },
    {
      "cell_type": "code",
      "source": [
        "# stride\n",
        "L[1:6:2]"
      ],
      "metadata": {
        "colab": {
          "base_uri": "https://localhost:8080/"
        },
        "id": "1aldEJAfWpb4",
        "outputId": "9383dfa5-16c2-4de2-e3ee-9b7e7c68a5ff"
      },
      "execution_count": null,
      "outputs": [
        {
          "output_type": "execute_result",
          "data": {
            "text/plain": [
              "[2, 4, 6]"
            ]
          },
          "metadata": {},
          "execution_count": 82
        }
      ]
    },
    {
      "cell_type": "code",
      "source": [
        "L[::-1]"
      ],
      "metadata": {
        "colab": {
          "base_uri": "https://localhost:8080/"
        },
        "id": "PAxvDjXeXCLz",
        "outputId": "1b10bc90-f35b-462e-e333-d604556977c9"
      },
      "execution_count": null,
      "outputs": [
        {
          "output_type": "execute_result",
          "data": {
            "text/plain": [
              "[8, 7, 6, 5, 4, 3, 2, 1]"
            ]
          },
          "metadata": {},
          "execution_count": 83
        }
      ]
    },
    {
      "cell_type": "markdown",
      "source": [
        "### ex-31"
      ],
      "metadata": {
        "id": "ou5d4dylY5by"
      }
    },
    {
      "cell_type": "code",
      "source": [
        "nums = [10, 4, 5, -1, 6, 12, 40]\n",
        "\n",
        "for i in nums[1::2]:\n",
        "  print(i)"
      ],
      "metadata": {
        "colab": {
          "base_uri": "https://localhost:8080/"
        },
        "id": "Z2UcZENgY7Ea",
        "outputId": "40b0d40e-5f79-4df2-a320-560000ab07fc"
      },
      "execution_count": null,
      "outputs": [
        {
          "output_type": "stream",
          "name": "stdout",
          "text": [
            "4\n",
            "-1\n",
            "12\n"
          ]
        }
      ]
    },
    {
      "cell_type": "code",
      "source": [
        "nums = [10, 4, 5, -1, 6, 12, 40, 45, 65]\n",
        "\n",
        "# 아래 두 가지 방식 중 한 가지 방식을 통해 작성\n",
        "# for i in range(len(teams)):\n",
        "#   print(f'{i+1:>2}위: {teams[i]}')\n",
        "\n",
        "# for i,team in enumerate(teams): <-----------------\n",
        "#   print(f'{i+1:>2}위: {teams[i]}')\n",
        "\n",
        "s = 0\n",
        "for i in nums[1::2]:\n",
        "  print(i)\n",
        "  s = s + i\n",
        "print(\"-\"*5)\n",
        "s"
      ],
      "metadata": {
        "colab": {
          "base_uri": "https://localhost:8080/"
        },
        "id": "VHebQ4a3ZHPO",
        "outputId": "8f965556-fe2f-4d9a-d065-1f6cc7a40eea"
      },
      "execution_count": null,
      "outputs": [
        {
          "output_type": "stream",
          "name": "stdout",
          "text": [
            "4\n",
            "-1\n",
            "12\n",
            "45\n",
            "-----\n"
          ]
        },
        {
          "output_type": "execute_result",
          "data": {
            "text/plain": [
              "60"
            ]
          },
          "metadata": {},
          "execution_count": 87
        }
      ]
    },
    {
      "cell_type": "markdown",
      "source": [
        "### 리스트의 중첩"
      ],
      "metadata": {
        "id": "_il6nFr9dWEv"
      }
    },
    {
      "cell_type": "code",
      "source": [
        "L1 = [1, [100,200,('FOO', 'BAR')], 'foo', 3]"
      ],
      "metadata": {
        "id": "-pU890hVdbNn"
      },
      "execution_count": null,
      "outputs": []
    },
    {
      "cell_type": "code",
      "source": [
        "len(L1), L1[0]"
      ],
      "metadata": {
        "colab": {
          "base_uri": "https://localhost:8080/"
        },
        "id": "7-9tZZUNduBT",
        "outputId": "5d248091-59c4-47ab-eedf-be2fcc0cddec"
      },
      "execution_count": null,
      "outputs": [
        {
          "output_type": "execute_result",
          "data": {
            "text/plain": [
              "(4, 1)"
            ]
          },
          "metadata": {},
          "execution_count": 5
        }
      ]
    },
    {
      "cell_type": "code",
      "source": [
        "L2 = L1[1]\n",
        "L2"
      ],
      "metadata": {
        "colab": {
          "base_uri": "https://localhost:8080/"
        },
        "id": "lY-mKwuldwY4",
        "outputId": "0cc06f60-c0ee-4685-dfe0-ee89ed1cb8d7"
      },
      "execution_count": null,
      "outputs": [
        {
          "output_type": "execute_result",
          "data": {
            "text/plain": [
              "[100, 200, ('FOO', 'BAR')]"
            ]
          },
          "metadata": {},
          "execution_count": 6
        }
      ]
    },
    {
      "cell_type": "code",
      "source": [
        "L2[1]"
      ],
      "metadata": {
        "colab": {
          "base_uri": "https://localhost:8080/"
        },
        "id": "vHxxCl-Rdzm3",
        "outputId": "631a03de-9512-4c4a-94d1-97c023de6c8e"
      },
      "execution_count": null,
      "outputs": [
        {
          "output_type": "execute_result",
          "data": {
            "text/plain": [
              "200"
            ]
          },
          "metadata": {},
          "execution_count": 7
        }
      ]
    },
    {
      "cell_type": "code",
      "source": [
        "L1[1][1]"
      ],
      "metadata": {
        "colab": {
          "base_uri": "https://localhost:8080/"
        },
        "id": "1IfofcQYd1L1",
        "outputId": "2ba2fd4e-5166-4b92-bac6-a5c178453e45"
      },
      "execution_count": null,
      "outputs": [
        {
          "output_type": "execute_result",
          "data": {
            "text/plain": [
              "200"
            ]
          },
          "metadata": {},
          "execution_count": 8
        }
      ]
    },
    {
      "cell_type": "code",
      "source": [
        "L1[1][2][1]"
      ],
      "metadata": {
        "id": "P14pmKsAd3UU",
        "colab": {
          "base_uri": "https://localhost:8080/",
          "height": 36
        },
        "outputId": "e96fd45f-1c24-4f69-ee77-538c480a8501"
      },
      "execution_count": null,
      "outputs": [
        {
          "output_type": "execute_result",
          "data": {
            "text/plain": [
              "'BAR'"
            ],
            "application/vnd.google.colaboratory.intrinsic+json": {
              "type": "string"
            }
          },
          "metadata": {},
          "execution_count": 9
        }
      ]
    },
    {
      "cell_type": "markdown",
      "source": [
        "### ex-32"
      ],
      "metadata": {
        "id": "bXM05gfreSRF"
      }
    },
    {
      "cell_type": "code",
      "source": [
        "A = [[1,0,1],\n",
        "     [0,2,0],\n",
        "     [1,2,1],\n",
        "     [1,2,1]]\n",
        "\n",
        "B = [[2,3,1],\n",
        "     [0,1,1],\n",
        "     [1,1,1],\n",
        "     [1,1,1]]\n",
        "\n",
        "C = [[0,0,0],\n",
        "     [0,0,0],\n",
        "     [0,0,0],\n",
        "     [0,0,0]]\n",
        "\n",
        "# A + B => C\n",
        "for i in range(len(A)):\n",
        "    for j in range(len(A[i])):\n",
        "        C[i][j] = A[i][j]+B[i][j]\n",
        "\n",
        "print(C)"
      ],
      "metadata": {
        "id": "QKtO-YmEeY1_",
        "colab": {
          "base_uri": "https://localhost:8080/"
        },
        "outputId": "ad617480-ba34-4c01-d738-f548bc7bdb9f"
      },
      "execution_count": null,
      "outputs": [
        {
          "output_type": "stream",
          "name": "stdout",
          "text": [
            "[[3, 3, 2], [0, 3, 1], [2, 3, 2], [2, 3, 2]]\n"
          ]
        }
      ]
    },
    {
      "cell_type": "markdown",
      "source": [
        "### ex-33"
      ],
      "metadata": {
        "id": "ETM2AVhjEV48"
      }
    },
    {
      "cell_type": "code",
      "source": [
        "A = [[1,0,1],\n",
        "     [0,2,0],\n",
        "     [1,2,1],\n",
        "     ]\n",
        "\n",
        "B = [[2,3,1],\n",
        "     [0,1,1],\n",
        "     [1,1,1],\n",
        "     ]\n",
        "\n",
        "C = [[0,0,0],\n",
        "     [0,0,0],\n",
        "     [0,0,0],\n",
        "     ]\n",
        "\n",
        "# AxB -> C\n",
        "for i in range(len(A)):\n",
        "     for j in range(len(B[0])):\n",
        "          for k in range(len(A[0])):\n",
        "               C[i][j] += A[i][k]*B[k][j]\n",
        "\n",
        "print(C)"
      ],
      "metadata": {
        "colab": {
          "base_uri": "https://localhost:8080/"
        },
        "id": "Z_3qUoxWEYT8",
        "outputId": "0947993e-5b5e-4f4f-c74f-d3fce073b8bc"
      },
      "execution_count": null,
      "outputs": [
        {
          "output_type": "stream",
          "name": "stdout",
          "text": [
            "[[3, 4, 2], [0, 2, 2], [3, 6, 4]]\n"
          ]
        }
      ]
    },
    {
      "cell_type": "markdown",
      "source": [
        "### 사전"
      ],
      "metadata": {
        "id": "UmGm29wLer_i"
      }
    },
    {
      "cell_type": "code",
      "source": [
        "en2ko = {\n",
        "#    key : value\n",
        "    'book': '책',\n",
        "    'snake': '뱀',\n",
        "    'language': '언어'\n",
        "}\n",
        "en2ko"
      ],
      "metadata": {
        "colab": {
          "base_uri": "https://localhost:8080/"
        },
        "id": "MRdnH874exPk",
        "outputId": "8cf1f061-2b31-436a-abb8-54c8dc1dabf3"
      },
      "execution_count": null,
      "outputs": [
        {
          "output_type": "execute_result",
          "data": {
            "text/plain": [
              "{'book': '책', 'snake': '뱀', 'language': '언어'}"
            ]
          },
          "metadata": {},
          "execution_count": 13
        }
      ]
    },
    {
      "cell_type": "code",
      "source": [
        "en2ko['book']"
      ],
      "metadata": {
        "colab": {
          "base_uri": "https://localhost:8080/",
          "height": 36
        },
        "id": "u06_cZtIfEBA",
        "outputId": "c9eeab21-7600-4fd3-cc8e-47c20c84afc7"
      },
      "execution_count": null,
      "outputs": [
        {
          "output_type": "execute_result",
          "data": {
            "text/plain": [
              "'책'"
            ],
            "application/vnd.google.colaboratory.intrinsic+json": {
              "type": "string"
            }
          },
          "metadata": {},
          "execution_count": 14
        }
      ]
    },
    {
      "cell_type": "code",
      "source": [
        "en2ko['mouse'] = '쥐, 입력장치'\n",
        "# == en2ko['mouse'] = ['쥐, 입력장치']\n",
        "en2ko"
      ],
      "metadata": {
        "colab": {
          "base_uri": "https://localhost:8080/"
        },
        "id": "wMA95gcGfJR0",
        "outputId": "d05cc8ca-37a6-4387-807b-cb73b0d65844"
      },
      "execution_count": null,
      "outputs": [
        {
          "output_type": "execute_result",
          "data": {
            "text/plain": [
              "{'book': '책', 'snake': '뱀', 'language': '언어', 'mouse': '쥐, 입력장치'}"
            ]
          },
          "metadata": {},
          "execution_count": 15
        }
      ]
    },
    {
      "cell_type": "code",
      "source": [
        "en2ko['mouse']"
      ],
      "metadata": {
        "colab": {
          "base_uri": "https://localhost:8080/",
          "height": 36
        },
        "id": "8bdPIC3zEiHc",
        "outputId": "2e09a563-f8ac-40c9-bbf0-c592b8a7d6ad"
      },
      "execution_count": null,
      "outputs": [
        {
          "output_type": "execute_result",
          "data": {
            "text/plain": [
              "'쥐, 입력장치'"
            ],
            "application/vnd.google.colaboratory.intrinsic+json": {
              "type": "string"
            }
          },
          "metadata": {},
          "execution_count": 16
        }
      ]
    },
    {
      "cell_type": "code",
      "source": [
        "en2ko['책']"
      ],
      "metadata": {
        "colab": {
          "base_uri": "https://localhost:8080/",
          "height": 149
        },
        "id": "TtKaB07GftDC",
        "outputId": "f729cf3d-c101-4d22-8edb-c14bb69c8194"
      },
      "execution_count": null,
      "outputs": [
        {
          "output_type": "error",
          "ename": "KeyError",
          "evalue": "'책'",
          "traceback": [
            "\u001b[0;31m---------------------------------------------------------------------------\u001b[0m",
            "\u001b[0;31mKeyError\u001b[0m                                  Traceback (most recent call last)",
            "\u001b[0;32m<ipython-input-17-99e976cf2a82>\u001b[0m in \u001b[0;36m<cell line: 1>\u001b[0;34m()\u001b[0m\n\u001b[0;32m----> 1\u001b[0;31m \u001b[0men2ko\u001b[0m\u001b[0;34m[\u001b[0m\u001b[0;34m'책'\u001b[0m\u001b[0;34m]\u001b[0m\u001b[0;34m\u001b[0m\u001b[0;34m\u001b[0m\u001b[0m\n\u001b[0m",
            "\u001b[0;31mKeyError\u001b[0m: '책'"
          ]
        }
      ]
    },
    {
      "cell_type": "markdown",
      "source": [
        "### ex-34"
      ],
      "metadata": {
        "id": "Wkzp-tIQfylH"
      }
    },
    {
      "cell_type": "code",
      "source": [
        "en2ko = {\n",
        "#    key : value\n",
        "    'book': '책',\n",
        "    'snake': '뱀',\n",
        "    'language': '언어'\n",
        "}\n",
        "\n",
        "ko2en = {}\n",
        "\n",
        "for k, v in en2ko.items():\n",
        "  ko2en[v] = k\n",
        "\n",
        "ko2en"
      ],
      "metadata": {
        "colab": {
          "base_uri": "https://localhost:8080/"
        },
        "id": "bHAIcaZhf1If",
        "outputId": "35b7f408-4c0f-41dd-ddc5-29f37e200448"
      },
      "execution_count": null,
      "outputs": [
        {
          "output_type": "execute_result",
          "data": {
            "text/plain": [
              "{'책': 'book', '뱀': 'snake', '언어': 'language'}"
            ]
          },
          "metadata": {},
          "execution_count": 99
        }
      ]
    },
    {
      "cell_type": "markdown",
      "source": [
        "# 내포(comprehension)\n"
      ],
      "metadata": {
        "id": "N0lTyT8ngXOn"
      }
    },
    {
      "cell_type": "code",
      "source": [
        "c = int(input())\n",
        "\n",
        "L = []\n",
        "\n",
        "for i in range(1, c+1):\n",
        "  L.append(i)\n",
        "\n",
        "L"
      ],
      "metadata": {
        "colab": {
          "base_uri": "https://localhost:8080/"
        },
        "id": "HEKBe8rJf6TE",
        "outputId": "589c6190-56f3-4ffe-8178-03a27deb09fe"
      },
      "execution_count": null,
      "outputs": [
        {
          "name": "stdout",
          "output_type": "stream",
          "text": [
            "10\n"
          ]
        },
        {
          "output_type": "execute_result",
          "data": {
            "text/plain": [
              "[1, 2, 3, 4, 5, 6, 7, 8, 9, 10]"
            ]
          },
          "metadata": {},
          "execution_count": 101
        }
      ]
    },
    {
      "cell_type": "code",
      "source": [
        "c = int(input())\n",
        "\n",
        "L = [i for i in range(1, c+1)]\n",
        "\n",
        "L"
      ],
      "metadata": {
        "colab": {
          "base_uri": "https://localhost:8080/"
        },
        "id": "A6xNz97EgqTV",
        "outputId": "6e6bb37c-40a9-469f-c900-507bce6a43e9"
      },
      "execution_count": null,
      "outputs": [
        {
          "name": "stdout",
          "output_type": "stream",
          "text": [
            "10\n"
          ]
        },
        {
          "output_type": "execute_result",
          "data": {
            "text/plain": [
              "[1, 2, 3, 4, 5, 6, 7, 8, 9, 10]"
            ]
          },
          "metadata": {},
          "execution_count": 102
        }
      ]
    },
    {
      "cell_type": "markdown",
      "source": [
        "### 함수"
      ],
      "metadata": {
        "id": "vk4lSQEkhWP-"
      }
    },
    {
      "cell_type": "code",
      "source": [
        "# 함수 정의하기\n",
        "def dummy(): # <-- 입력 변수가 없는 함수\n",
        "  print(\"hello\") # 들여쓰기한 부분은 함수의 body\n",
        "\n",
        "# 정의된 함수 작동시키기\n",
        "dummy()"
      ],
      "metadata": {
        "colab": {
          "base_uri": "https://localhost:8080/"
        },
        "id": "DipsQtj8hYYu",
        "outputId": "6dc82c4f-f96a-4a9e-c8b2-2eee9d07910a"
      },
      "execution_count": null,
      "outputs": [
        {
          "output_type": "stream",
          "name": "stdout",
          "text": [
            "hello\n"
          ]
        }
      ]
    },
    {
      "cell_type": "code",
      "source": [
        "dummy()"
      ],
      "metadata": {
        "colab": {
          "base_uri": "https://localhost:8080/"
        },
        "id": "eLYiUzBYEqet",
        "outputId": "4bf6d095-2a98-4706-9ecc-cb4f5af60fcd"
      },
      "execution_count": null,
      "outputs": [
        {
          "output_type": "stream",
          "name": "stdout",
          "text": [
            "hello\n"
          ]
        }
      ]
    },
    {
      "cell_type": "code",
      "source": [
        "def hello(name):\n",
        "  print(f\"hello, {name}\")\n",
        "\n",
        "hello('python')"
      ],
      "metadata": {
        "colab": {
          "base_uri": "https://localhost:8080/"
        },
        "id": "tMT8Q165hoJl",
        "outputId": "450d4d52-62d3-4214-aceb-4bf24b4d055b"
      },
      "execution_count": null,
      "outputs": [
        {
          "output_type": "stream",
          "name": "stdout",
          "text": [
            "hello, python\n"
          ]
        }
      ]
    },
    {
      "cell_type": "code",
      "source": [
        "hello('deep learning')"
      ],
      "metadata": {
        "colab": {
          "base_uri": "https://localhost:8080/"
        },
        "id": "zpu-elqAEuot",
        "outputId": "df4a7508-a282-4d85-d32c-f66ed8f26578"
      },
      "execution_count": null,
      "outputs": [
        {
          "output_type": "stream",
          "name": "stdout",
          "text": [
            "hello, deep learning\n"
          ]
        }
      ]
    },
    {
      "cell_type": "markdown",
      "source": [
        "### ex-38"
      ],
      "metadata": {
        "id": "4BtjU9moiWZJ"
      }
    },
    {
      "cell_type": "code",
      "source": [
        "def mean(L):\n",
        "  print(L)\n",
        "\n",
        "mean([1, 2, 3, 4])"
      ],
      "metadata": {
        "colab": {
          "base_uri": "https://localhost:8080/"
        },
        "id": "nFZTngn1iI6n",
        "outputId": "1fcb817f-75f7-477f-fa53-e65405dbb8da"
      },
      "execution_count": null,
      "outputs": [
        {
          "output_type": "stream",
          "name": "stdout",
          "text": [
            "[1, 2, 3, 4]\n"
          ]
        }
      ]
    },
    {
      "cell_type": "code",
      "source": [
        "def mean(L):\n",
        "  n = len(L)\n",
        "  print(n)\n",
        "\n",
        "mean([1, 2, 3, 4, 5, 6, 7, 8])"
      ],
      "metadata": {
        "colab": {
          "base_uri": "https://localhost:8080/"
        },
        "id": "K2J7QTPPii-D",
        "outputId": "788b46fc-0494-4901-d1db-ddec5b8fefa3"
      },
      "execution_count": null,
      "outputs": [
        {
          "output_type": "stream",
          "name": "stdout",
          "text": [
            "8\n"
          ]
        }
      ]
    },
    {
      "cell_type": "code",
      "source": [
        "def mean(L):\n",
        "  n = len(L)\n",
        "\n",
        "  s = 0\n",
        "  for x in L:\n",
        "    s += x\n",
        "    print(s, end = ' ')\n",
        "\n",
        "  print(end = '\\n\\n')\n",
        "\n",
        "  m = s / n\n",
        "  print(m)\n",
        "\n",
        "mean([1, 2, 3, 4, 5, 6, 7, 8, 9])"
      ],
      "metadata": {
        "colab": {
          "base_uri": "https://localhost:8080/"
        },
        "id": "VKwBGSxtiy6P",
        "outputId": "6dcee1d1-435e-43db-ab5c-6b237825002a"
      },
      "execution_count": null,
      "outputs": [
        {
          "output_type": "stream",
          "name": "stdout",
          "text": [
            "1 3 6 10 15 21 28 36 45 \n",
            "\n",
            "5.0\n"
          ]
        }
      ]
    },
    {
      "cell_type": "code",
      "source": [
        "def mean(L):\n",
        "  n = len(L)\n",
        "\n",
        "  s = 0\n",
        "  for x in L:\n",
        "    s += x\n",
        "\n",
        "  m = s / n\n",
        "\n",
        "  return m\n",
        "\n",
        "avg = mean([1.2, 3.4, 1.1, 10.2, 10])\n",
        "avg"
      ],
      "metadata": {
        "colab": {
          "base_uri": "https://localhost:8080/"
        },
        "id": "iiY9X3rOjDEQ",
        "outputId": "3df0c53a-21ca-42f0-9bc4-bd21931ab1ae"
      },
      "execution_count": null,
      "outputs": [
        {
          "output_type": "execute_result",
          "data": {
            "text/plain": [
              "5.18"
            ]
          },
          "metadata": {},
          "execution_count": 29
        }
      ]
    },
    {
      "cell_type": "code",
      "source": [
        "avg = mean([100, 200])\n",
        "avg"
      ],
      "metadata": {
        "colab": {
          "base_uri": "https://localhost:8080/"
        },
        "id": "Jo1uTJCEFGhE",
        "outputId": "7f07e25b-7a76-45e5-f618-5ca6a667b24b"
      },
      "execution_count": null,
      "outputs": [
        {
          "output_type": "execute_result",
          "data": {
            "text/plain": [
              "150.0"
            ]
          },
          "metadata": {},
          "execution_count": 30
        }
      ]
    }
  ]
}