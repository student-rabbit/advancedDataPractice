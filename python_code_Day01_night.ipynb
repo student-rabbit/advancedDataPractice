{
  "nbformat": 4,
  "nbformat_minor": 0,
  "metadata": {
    "colab": {
      "provenance": [],
      "authorship_tag": "ABX9TyMcI5IEJN5LcMh203OYDcpa",
      "include_colab_link": true
    },
    "kernelspec": {
      "name": "python3",
      "display_name": "Python 3"
    },
    "language_info": {
      "name": "python"
    }
  },
  "cells": [
    {
      "cell_type": "markdown",
      "metadata": {
        "id": "view-in-github",
        "colab_type": "text"
      },
      "source": [
        "<a href=\"https://colab.research.google.com/github/student-rabbit/advancedDataPractice/blob/main/python_code_Day01_night.ipynb\" target=\"_parent\"><img src=\"https://colab.research.google.com/assets/colab-badge.svg\" alt=\"Open In Colab\"/></a>"
      ]
    },
    {
      "cell_type": "markdown",
      "source": [
        "### while"
      ],
      "metadata": {
        "id": "pTx7T9PS0tVA"
      }
    },
    {
      "cell_type": "code",
      "source": [
        "i = 0\n",
        "while i <10:\n",
        "  print(i)\n",
        "  i += 1\n",
        "\n",
        "print('end while')"
      ],
      "metadata": {
        "colab": {
          "base_uri": "https://localhost:8080/"
        },
        "id": "4MaT6sD60waw",
        "outputId": "a4e32d51-f0e4-4d67-de4b-c0b7ccd816ee"
      },
      "execution_count": 1,
      "outputs": [
        {
          "output_type": "stream",
          "name": "stdout",
          "text": [
            "0\n",
            "1\n",
            "2\n",
            "3\n",
            "4\n",
            "5\n",
            "6\n",
            "7\n",
            "8\n",
            "9\n",
            "end while\n"
          ]
        }
      ]
    },
    {
      "cell_type": "code",
      "source": [
        "i = 0\n",
        "while i <10:\n",
        "  print(i)\n",
        "  i += 1\n",
        "\n",
        "  if i == 5:\n",
        "    print('break')\n",
        "    break # 반복 블록 안에서 반복 실행을 강제로 탈출\n",
        "\n",
        "print('end while')"
      ],
      "metadata": {
        "colab": {
          "base_uri": "https://localhost:8080/"
        },
        "id": "1iNR5vDr0434",
        "outputId": "ba39e2db-3516-4535-8e7e-748711f0d6be"
      },
      "execution_count": 2,
      "outputs": [
        {
          "output_type": "stream",
          "name": "stdout",
          "text": [
            "0\n",
            "1\n",
            "2\n",
            "3\n",
            "4\n",
            "break\n",
            "end while\n"
          ]
        }
      ]
    },
    {
      "cell_type": "markdown",
      "source": [
        "### ex-18"
      ],
      "metadata": {
        "id": "jPvkj3Vm1wag"
      }
    },
    {
      "cell_type": "code",
      "source": [
        "n = int(input(\"숫자 : \"))\n",
        "\n",
        "count = 0\n",
        "while n > 0:\n",
        "  print(\"현재 숫자 : \", n)\n",
        "  n -= 1\n",
        "  count += 1\n",
        "\n",
        "print(n, count)"
      ],
      "metadata": {
        "colab": {
          "base_uri": "https://localhost:8080/"
        },
        "id": "2YO__J6u10JP",
        "outputId": "4da03ce2-51ab-48d9-a9e7-abb144fe9267"
      },
      "execution_count": 4,
      "outputs": [
        {
          "output_type": "stream",
          "name": "stdout",
          "text": [
            "숫자 : 5\n",
            "현재 숫자 :  5\n",
            "현재 숫자 :  4\n",
            "현재 숫자 :  3\n",
            "현재 숫자 :  2\n",
            "현재 숫자 :  1\n",
            "0 5\n"
          ]
        }
      ]
    },
    {
      "cell_type": "markdown",
      "source": [
        "\n",
        "### ex-23"
      ],
      "metadata": {
        "id": "GCeGQQI-2ejH"
      }
    },
    {
      "cell_type": "code",
      "source": [
        "password = '1234'\n",
        "\n",
        "while True:\n",
        "  user_pw = input('패스워드 : ')\n",
        "\n",
        "  if user_pw == password:\n",
        "    print(\"로그인 성공\")\n",
        "    break\n",
        "  else:\n",
        "    print(\"로그인 실패, 다시 입력하세요.\")"
      ],
      "metadata": {
        "colab": {
          "base_uri": "https://localhost:8080/"
        },
        "id": "ltXQYYRx2nTO",
        "outputId": "73d0d11e-3e4b-488a-8432-57c41692ec35"
      },
      "execution_count": 6,
      "outputs": [
        {
          "output_type": "stream",
          "name": "stdout",
          "text": [
            "패스워드 : 12\n",
            "로그인 실패, 다시 입력하세요.\n",
            "패스워드 : 1234\n",
            "로그인 성공\n"
          ]
        }
      ]
    },
    {
      "cell_type": "markdown",
      "source": [
        "### for"
      ],
      "metadata": {
        "id": "l6nVqabv48hg"
      }
    },
    {
      "cell_type": "code",
      "source": [
        "for i in range(5): # start : 0(default), end : 5\n",
        "  print(i, 'python')"
      ],
      "metadata": {
        "colab": {
          "base_uri": "https://localhost:8080/"
        },
        "id": "ijAql1Z55Bse",
        "outputId": "a7bea82f-7e3a-4418-d141-e61471b04a57"
      },
      "execution_count": 8,
      "outputs": [
        {
          "output_type": "stream",
          "name": "stdout",
          "text": [
            "0 python\n",
            "1 python\n",
            "2 python\n",
            "3 python\n",
            "4 python\n"
          ]
        }
      ]
    },
    {
      "cell_type": "code",
      "source": [
        "for i in range(1,5): # start : 1(default), end : 5\n",
        "  print(i, 'python')"
      ],
      "metadata": {
        "colab": {
          "base_uri": "https://localhost:8080/"
        },
        "id": "sxSC6RMw5YjE",
        "outputId": "d1d7a139-b93f-4949-f57d-b789ead9b551"
      },
      "execution_count": 9,
      "outputs": [
        {
          "output_type": "stream",
          "name": "stdout",
          "text": [
            "1 python\n",
            "2 python\n",
            "3 python\n",
            "4 python\n"
          ]
        }
      ]
    },
    {
      "cell_type": "code",
      "source": [
        "for i in range(1,10, 2): # 2씩 증\n",
        "  print(i, 'python')"
      ],
      "metadata": {
        "colab": {
          "base_uri": "https://localhost:8080/"
        },
        "id": "-1LITf1d6Uwu",
        "outputId": "0cad7b9a-650f-4de1-f9b0-733214ebc7b0"
      },
      "execution_count": 10,
      "outputs": [
        {
          "output_type": "stream",
          "name": "stdout",
          "text": [
            "1 python\n",
            "3 python\n",
            "5 python\n",
            "7 python\n",
            "9 python\n"
          ]
        }
      ]
    },
    {
      "cell_type": "markdown",
      "source": [
        "### ex-20"
      ],
      "metadata": {
        "id": "BEFwqqXn6qFn"
      }
    },
    {
      "cell_type": "code",
      "source": [
        "for i in range (3, 100, 3):\n",
        "  print(i, end= ' ')"
      ],
      "metadata": {
        "colab": {
          "base_uri": "https://localhost:8080/"
        },
        "id": "OqdABgCh6uqO",
        "outputId": "4247f1b1-5dd4-47a2-e308-bae90b1b8f95"
      },
      "execution_count": 12,
      "outputs": [
        {
          "output_type": "stream",
          "name": "stdout",
          "text": [
            "3 6 9 12 15 18 21 24 27 30 33 36 39 42 45 48 51 54 57 60 63 66 69 72 75 78 81 84 87 90 93 96 99 "
          ]
        }
      ]
    },
    {
      "cell_type": "code",
      "source": [
        "j = 0\n",
        "for i in range(33):\n",
        "  j = j + 3\n",
        "  print(j, end = ' ')"
      ],
      "metadata": {
        "colab": {
          "base_uri": "https://localhost:8080/"
        },
        "id": "6_JlCYqW8Wen",
        "outputId": "b9a5528b-8586-4394-883b-a4868dee930a"
      },
      "execution_count": 16,
      "outputs": [
        {
          "output_type": "stream",
          "name": "stdout",
          "text": [
            "3 6 9 12 15 18 21 24 27 30 33 36 39 42 45 48 51 54 57 60 63 66 69 72 75 78 81 84 87 90 93 96 99 "
          ]
        }
      ]
    },
    {
      "cell_type": "code",
      "source": [
        "for i in range(1, 100):\n",
        "  if i % 3 == 0:\n",
        "    print(i, end = ' ')"
      ],
      "metadata": {
        "colab": {
          "base_uri": "https://localhost:8080/"
        },
        "id": "aXlGw6ZF8kC3",
        "outputId": "5f6b7786-d0fa-44ce-d10e-0b9a61ea884d"
      },
      "execution_count": 15,
      "outputs": [
        {
          "output_type": "stream",
          "name": "stdout",
          "text": [
            "3 6 9 12 15 18 21 24 27 30 33 36 39 42 45 48 51 54 57 60 63 66 69 72 75 78 81 84 87 90 93 96 99 "
          ]
        }
      ]
    },
    {
      "cell_type": "markdown",
      "source": [
        "### ex-21"
      ],
      "metadata": {
        "id": "1u6x5Tbd9YFM"
      }
    },
    {
      "cell_type": "code",
      "source": [
        "n = int(input(\"단수를 입력하세요.\"))\n",
        "\n",
        "for i in range (1, 10):\n",
        "    print(f\"{n} x {i} = {n*i}\")"
      ],
      "metadata": {
        "colab": {
          "base_uri": "https://localhost:8080/"
        },
        "id": "2g59zAN99aZs",
        "outputId": "97f2bfca-1004-4abb-8f47-eb0b2f381d7c"
      },
      "execution_count": 20,
      "outputs": [
        {
          "output_type": "stream",
          "name": "stdout",
          "text": [
            "단수를 입력하세요.5\n",
            "5 x 1 = 5\n",
            "5 x 2 = 10\n",
            "5 x 3 = 15\n",
            "5 x 4 = 20\n",
            "5 x 5 = 25\n",
            "5 x 6 = 30\n",
            "5 x 7 = 35\n",
            "5 x 8 = 40\n",
            "5 x 9 = 45\n"
          ]
        }
      ]
    },
    {
      "cell_type": "markdown",
      "source": [
        "### ex-24"
      ],
      "metadata": {
        "id": "n-dhyTKoB0RV"
      }
    },
    {
      "cell_type": "code",
      "source": [
        "password = '1234'\n",
        "\n",
        "for i in range(5):\n",
        "  user_pw = input('패스워드 : ')\n",
        "\n",
        "  if user_pw == password:\n",
        "    print(\"로그인 성공\")\n",
        "    break\n",
        "  else:\n",
        "    print(\"로그인 실패, 다시 입력하세요.\")\n",
        "# 가능한 케이스: (i < 4, 성공), (i == 4, 성공), (i == 4 실패)"
      ],
      "metadata": {
        "colab": {
          "base_uri": "https://localhost:8080/"
        },
        "id": "QfhBbsN6Ftmb",
        "outputId": "e500e640-6cb9-4d39-b684-538480bed0df"
      },
      "execution_count": 28,
      "outputs": [
        {
          "output_type": "stream",
          "name": "stdout",
          "text": [
            "패스워드 : 12\n",
            "로그인 실패, 다시 입력하세요.\n",
            "패스워드 : 32\n",
            "로그인 실패, 다시 입력하세요.\n",
            "패스워드 : 142\n",
            "로그인 실패, 다시 입력하세요.\n",
            "패스워드 : 123\n",
            "로그인 실패, 다시 입력하세요.\n",
            "패스워드 : 3\n",
            "로그인 실패, 다시 입력하세요.\n"
          ]
        }
      ]
    },
    {
      "cell_type": "code",
      "source": [
        "password = '1234'\n",
        "\n",
        "success = False\n",
        "for i in range(5):\n",
        "  user_pw = input('패스워드 : ')\n",
        "\n",
        "  if user_pw == password:\n",
        "    print(\"로그인 성공\")\n",
        "    success = True\n",
        "    break\n",
        "  else:\n",
        "    print(\"로그인 실패, 다시 입력하세요.\")\n",
        "# 가능한 케이스: (i < 4, 성공), (i == 4, 성공), (i == 4 실패)\n",
        "if not success and i == 4:\n",
        "  print(\"로그인 시도 횟수 초과\")\n",
        "\n",
        "  # 아이디 잠금, 잠금 시간 기록\n"
      ],
      "metadata": {
        "colab": {
          "base_uri": "https://localhost:8080/"
        },
        "id": "avivy-cqB2KD",
        "outputId": "bd57b007-76c6-477f-ba46-ae05064af6bf"
      },
      "execution_count": 29,
      "outputs": [
        {
          "output_type": "stream",
          "name": "stdout",
          "text": [
            "패스워드 : 1\n",
            "로그인 실패, 다시 입력하세요.\n",
            "패스워드 : 3\n",
            "로그인 실패, 다시 입력하세요.\n",
            "패스워드 : 132\n",
            "로그인 실패, 다시 입력하세요.\n",
            "패스워드 : 142\n",
            "로그인 실패, 다시 입력하세요.\n",
            "패스워드 : 342\n",
            "로그인 실패, 다시 입력하세요.\n",
            "로그인 시도 횟수 초과\n"
          ]
        }
      ]
    },
    {
      "cell_type": "markdown",
      "source": [
        "### 다중 반복"
      ],
      "metadata": {
        "id": "AVEM2X7pGgsE"
      }
    },
    {
      "cell_type": "code",
      "source": [
        "for i in range(5):\n",
        "  for j in range(5):\n",
        "    print(i, j, end = \"   \")\n",
        "  print(end = \"\\n\")"
      ],
      "metadata": {
        "colab": {
          "base_uri": "https://localhost:8080/"
        },
        "id": "DhSZJMLuHM55",
        "outputId": "e93102c6-5423-47bc-8dbf-f305c37c8f85"
      },
      "execution_count": 38,
      "outputs": [
        {
          "output_type": "stream",
          "name": "stdout",
          "text": [
            "0 0   0 1   0 2   0 3   0 4   \n",
            "1 0   1 1   1 2   1 3   1 4   \n",
            "2 0   2 1   2 2   2 3   2 4   \n",
            "3 0   3 1   3 2   3 3   3 4   \n",
            "4 0   4 1   4 2   4 3   4 4   \n"
          ]
        }
      ]
    },
    {
      "cell_type": "markdown",
      "source": [
        "### ex-27"
      ],
      "metadata": {
        "id": "HovEdAd7IGRa"
      }
    },
    {
      "cell_type": "code",
      "source": [
        "for i in range(2,10):\n",
        "  for j in range(2,10):\n",
        "    print(f\"{j} x {i} = {i * j:>2}\", end = '   ')\n",
        "  print(end = \"\\n\")"
      ],
      "metadata": {
        "colab": {
          "base_uri": "https://localhost:8080/"
        },
        "id": "65k6GgcPIKOC",
        "outputId": "3b783add-47f4-4647-eefb-6684d128f00b"
      },
      "execution_count": 44,
      "outputs": [
        {
          "output_type": "stream",
          "name": "stdout",
          "text": [
            "2 x 2 =  4   3 x 2 =  6   4 x 2 =  8   5 x 2 = 10   6 x 2 = 12   7 x 2 = 14   8 x 2 = 16   9 x 2 = 18   \n",
            "2 x 3 =  6   3 x 3 =  9   4 x 3 = 12   5 x 3 = 15   6 x 3 = 18   7 x 3 = 21   8 x 3 = 24   9 x 3 = 27   \n",
            "2 x 4 =  8   3 x 4 = 12   4 x 4 = 16   5 x 4 = 20   6 x 4 = 24   7 x 4 = 28   8 x 4 = 32   9 x 4 = 36   \n",
            "2 x 5 = 10   3 x 5 = 15   4 x 5 = 20   5 x 5 = 25   6 x 5 = 30   7 x 5 = 35   8 x 5 = 40   9 x 5 = 45   \n",
            "2 x 6 = 12   3 x 6 = 18   4 x 6 = 24   5 x 6 = 30   6 x 6 = 36   7 x 6 = 42   8 x 6 = 48   9 x 6 = 54   \n",
            "2 x 7 = 14   3 x 7 = 21   4 x 7 = 28   5 x 7 = 35   6 x 7 = 42   7 x 7 = 49   8 x 7 = 56   9 x 7 = 63   \n",
            "2 x 8 = 16   3 x 8 = 24   4 x 8 = 32   5 x 8 = 40   6 x 8 = 48   7 x 8 = 56   8 x 8 = 64   9 x 8 = 72   \n",
            "2 x 9 = 18   3 x 9 = 27   4 x 9 = 36   5 x 9 = 45   6 x 9 = 54   7 x 9 = 63   8 x 9 = 72   9 x 9 = 81   \n"
          ]
        }
      ]
    },
    {
      "cell_type": "markdown",
      "source": [
        "### 시퀀스로써의 문자"
      ],
      "metadata": {
        "id": "jJBkxqiFJtJo"
      }
    },
    {
      "cell_type": "code",
      "source": [
        "s = \"python\"\n",
        "\n",
        "len(s), s[3]"
      ],
      "metadata": {
        "colab": {
          "base_uri": "https://localhost:8080/"
        },
        "id": "d8Ur9vgvKJq-",
        "outputId": "9668d181-41cc-4b7d-b3ca-65beb1c2c428"
      },
      "execution_count": 45,
      "outputs": [
        {
          "output_type": "execute_result",
          "data": {
            "text/plain": [
              "(6, 'h')"
            ]
          },
          "metadata": {},
          "execution_count": 45
        }
      ]
    },
    {
      "cell_type": "markdown",
      "source": [
        "### tuple"
      ],
      "metadata": {
        "id": "_Y_JNDQ9LN8B"
      }
    },
    {
      "cell_type": "code",
      "source": [
        "zoo = ('python', 'elephant', 'penguin')\n",
        "type(zoo), len(zoo), zoo[0]"
      ],
      "metadata": {
        "colab": {
          "base_uri": "https://localhost:8080/"
        },
        "id": "ZkVnZu9eK-w5",
        "outputId": "08992b82-2507-4f7d-9915-13f81384ac09"
      },
      "execution_count": 46,
      "outputs": [
        {
          "output_type": "execute_result",
          "data": {
            "text/plain": [
              "(tuple, 3, 'python')"
            ]
          },
          "metadata": {},
          "execution_count": 46
        }
      ]
    },
    {
      "cell_type": "code",
      "source": [
        "# 항목 하나짜리 튜플\n",
        "singlenton = (3,) # == 3 3을 먼저 계산하라 느낌\n",
        "type(singlenton)"
      ],
      "metadata": {
        "colab": {
          "base_uri": "https://localhost:8080/"
        },
        "id": "M_-LejHTLQNu",
        "outputId": "d4f65f19-507d-4cb3-80cd-567351e69612"
      },
      "execution_count": 47,
      "outputs": [
        {
          "output_type": "execute_result",
          "data": {
            "text/plain": [
              "tuple"
            ]
          },
          "metadata": {},
          "execution_count": 47
        }
      ]
    },
    {
      "cell_type": "code",
      "source": [
        "# 패킹과 언패킹\n",
        "number = 1,2,3\n",
        "print(number)\n",
        "\n",
        "a,b,c = number\n",
        "print(a,b,c)"
      ],
      "metadata": {
        "colab": {
          "base_uri": "https://localhost:8080/"
        },
        "id": "UC1XLAnbLjO6",
        "outputId": "a65e1d81-f863-4581-aa22-2831ba4b4efc"
      },
      "execution_count": 48,
      "outputs": [
        {
          "output_type": "execute_result",
          "data": {
            "text/plain": [
              "(1, 2, 3)"
            ]
          },
          "metadata": {},
          "execution_count": 48
        }
      ]
    },
    {
      "cell_type": "code",
      "source": [
        "# 튜플은 불변\n",
        "zoo[0] = 'anaconda'"
      ],
      "metadata": {
        "colab": {
          "base_uri": "https://localhost:8080/",
          "height": 167
        },
        "id": "WiCY0yFlLqdx",
        "outputId": "ad90ab80-2c1f-479b-d19b-b05a8a553b68"
      },
      "execution_count": 49,
      "outputs": [
        {
          "output_type": "error",
          "ename": "TypeError",
          "evalue": "'tuple' object does not support item assignment",
          "traceback": [
            "\u001b[0;31m---------------------------------------------------------------------------\u001b[0m",
            "\u001b[0;31mTypeError\u001b[0m                                 Traceback (most recent call last)",
            "\u001b[0;32m<ipython-input-49-b9295b646513>\u001b[0m in \u001b[0;36m<cell line: 2>\u001b[0;34m()\u001b[0m\n\u001b[1;32m      1\u001b[0m \u001b[0;31m# 튜플은 불변\u001b[0m\u001b[0;34m\u001b[0m\u001b[0;34m\u001b[0m\u001b[0m\n\u001b[0;32m----> 2\u001b[0;31m \u001b[0mzoo\u001b[0m\u001b[0;34m[\u001b[0m\u001b[0;36m0\u001b[0m\u001b[0;34m]\u001b[0m \u001b[0;34m=\u001b[0m \u001b[0;34m'anaconda'\u001b[0m\u001b[0;34m\u001b[0m\u001b[0;34m\u001b[0m\u001b[0m\n\u001b[0m",
            "\u001b[0;31mTypeError\u001b[0m: 'tuple' object does not support item assignment"
          ]
        }
      ]
    },
    {
      "cell_type": "code",
      "source": [],
      "metadata": {
        "id": "-f091cuaMIw9"
      },
      "execution_count": null,
      "outputs": []
    }
  ]
}