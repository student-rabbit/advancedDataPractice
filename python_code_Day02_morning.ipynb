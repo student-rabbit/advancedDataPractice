{
  "nbformat": 4,
  "nbformat_minor": 0,
  "metadata": {
    "colab": {
      "provenance": [],
      "authorship_tag": "ABX9TyM6lWL5zjdplrcsdwH7AH5s",
      "include_colab_link": true
    },
    "kernelspec": {
      "name": "python3",
      "display_name": "Python 3"
    },
    "language_info": {
      "name": "python"
    }
  },
  "cells": [
    {
      "cell_type": "markdown",
      "metadata": {
        "id": "view-in-github",
        "colab_type": "text"
      },
      "source": [
        "<a href=\"https://colab.research.google.com/github/student-rabbit/advancedDataPractice/blob/main/python_code_Day02_morning.ipynb\" target=\"_parent\"><img src=\"https://colab.research.google.com/assets/colab-badge.svg\" alt=\"Open In Colab\"/></a>"
      ]
    },
    {
      "cell_type": "markdown",
      "source": [
        "### module"
      ],
      "metadata": {
        "id": "fYGwyVMG7DSa"
      }
    },
    {
      "cell_type": "code",
      "source": [
        "import math"
      ],
      "metadata": {
        "id": "IV92-nkD7Gam"
      },
      "execution_count": 1,
      "outputs": []
    },
    {
      "cell_type": "code",
      "source": [
        "dir(math) # 수학에서 사용하는 여러 함수들을 확인할 수 있다."
      ],
      "metadata": {
        "colab": {
          "base_uri": "https://localhost:8080/"
        },
        "id": "6Cymyhlz7Jty",
        "outputId": "f84d3bf0-95b7-4181-ab94-2130097454db"
      },
      "execution_count": 3,
      "outputs": [
        {
          "output_type": "execute_result",
          "data": {
            "text/plain": [
              "['__doc__',\n",
              " '__loader__',\n",
              " '__name__',\n",
              " '__package__',\n",
              " '__spec__',\n",
              " 'acos',\n",
              " 'acosh',\n",
              " 'asin',\n",
              " 'asinh',\n",
              " 'atan',\n",
              " 'atan2',\n",
              " 'atanh',\n",
              " 'ceil',\n",
              " 'comb',\n",
              " 'copysign',\n",
              " 'cos',\n",
              " 'cosh',\n",
              " 'degrees',\n",
              " 'dist',\n",
              " 'e',\n",
              " 'erf',\n",
              " 'erfc',\n",
              " 'exp',\n",
              " 'expm1',\n",
              " 'fabs',\n",
              " 'factorial',\n",
              " 'floor',\n",
              " 'fmod',\n",
              " 'frexp',\n",
              " 'fsum',\n",
              " 'gamma',\n",
              " 'gcd',\n",
              " 'hypot',\n",
              " 'inf',\n",
              " 'isclose',\n",
              " 'isfinite',\n",
              " 'isinf',\n",
              " 'isnan',\n",
              " 'isqrt',\n",
              " 'lcm',\n",
              " 'ldexp',\n",
              " 'lgamma',\n",
              " 'log',\n",
              " 'log10',\n",
              " 'log1p',\n",
              " 'log2',\n",
              " 'modf',\n",
              " 'nan',\n",
              " 'nextafter',\n",
              " 'perm',\n",
              " 'pi',\n",
              " 'pow',\n",
              " 'prod',\n",
              " 'radians',\n",
              " 'remainder',\n",
              " 'sin',\n",
              " 'sinh',\n",
              " 'sqrt',\n",
              " 'tan',\n",
              " 'tanh',\n",
              " 'tau',\n",
              " 'trunc',\n",
              " 'ulp']"
            ]
          },
          "metadata": {},
          "execution_count": 3
        }
      ]
    },
    {
      "cell_type": "code",
      "source": [
        "math.sqrt(10)"
      ],
      "metadata": {
        "colab": {
          "base_uri": "https://localhost:8080/"
        },
        "id": "kXoWB1K-7WgL",
        "outputId": "76f3c98c-fd7b-4de5-fd96-92edf47730db"
      },
      "execution_count": 4,
      "outputs": [
        {
          "output_type": "execute_result",
          "data": {
            "text/plain": [
              "3.1622776601683795"
            ]
          },
          "metadata": {},
          "execution_count": 4
        }
      ]
    },
    {
      "cell_type": "code",
      "source": [
        "import random\n",
        "\n",
        "random.randrange(1, 46) # start: 1, end: 45 - 랜덤 숫자 반환"
      ],
      "metadata": {
        "colab": {
          "base_uri": "https://localhost:8080/"
        },
        "id": "XGbNiUty9EgT",
        "outputId": "bb60cee5-1ec7-45fc-9e55-ac2b0e3d822b"
      },
      "execution_count": 6,
      "outputs": [
        {
          "output_type": "execute_result",
          "data": {
            "text/plain": [
              "24"
            ]
          },
          "metadata": {},
          "execution_count": 6
        }
      ]
    },
    {
      "cell_type": "markdown",
      "source": [
        "### ex-41"
      ],
      "metadata": {
        "id": "H3bL8rCP58fu"
      }
    },
    {
      "cell_type": "code",
      "source": [
        "def mean(L):\n",
        "  n = len(L)\n",
        "  s = 0\n",
        "  for x in L:\n",
        "    s += x\n",
        "  m = s / n\n",
        "\n",
        "  return m\n",
        "\n",
        "def std(L):\n",
        "  m = mean(L)\n",
        "  var = mean([(x_k-m)**2 for x_k in L])\n",
        "  sigma = math.sqrt(var)\n",
        "  return (var, sigma)\n",
        "\n",
        "std([1, 2, 3, 4, 5, 6, 7, 8, 9, 10])"
      ],
      "metadata": {
        "colab": {
          "base_uri": "https://localhost:8080/"
        },
        "id": "uBAq70M97r6y",
        "outputId": "901c2ca3-f3f3-4d69-e1ee-96ccb63afc4c"
      },
      "execution_count": 12,
      "outputs": [
        {
          "output_type": "execute_result",
          "data": {
            "text/plain": [
              "(8.25, 2.8722813232690143)"
            ]
          },
          "metadata": {},
          "execution_count": 12
        }
      ]
    },
    {
      "cell_type": "markdown",
      "source": [
        "### ex-42"
      ],
      "metadata": {
        "id": "CRRZBeH_87He"
      }
    },
    {
      "cell_type": "code",
      "source": [
        "import random\n",
        "\n",
        "def lottery():\n",
        "  game = []\n",
        "  for i in range(6):\n",
        "    x = random.randrange(1, 46)\n",
        "    # game 안에 숫자가 있는지 없는지 검사하고 없으면 append\n",
        "    game.append(x)\n",
        "\n",
        "  return game"
      ],
      "metadata": {
        "id": "KkDBgiIz889L"
      },
      "execution_count": 9,
      "outputs": []
    },
    {
      "cell_type": "code",
      "source": [
        "lottery()"
      ],
      "metadata": {
        "colab": {
          "base_uri": "https://localhost:8080/"
        },
        "id": "60rMziuT9qWS",
        "outputId": "d6978084-c613-4a30-b2d8-305db8a4df05"
      },
      "execution_count": 10,
      "outputs": [
        {
          "output_type": "execute_result",
          "data": {
            "text/plain": [
              "[24, 9, 16, 39, 35, 6]"
            ]
          },
          "metadata": {},
          "execution_count": 10
        }
      ]
    },
    {
      "cell_type": "code",
      "source": [
        "import random\n",
        "\n",
        "def lottery():\n",
        "  game = []\n",
        "  while len(game) < 6:\n",
        "  # for i in range(6):\n",
        "    x = random.randrange(1, 46)\n",
        "    # game 안에 숫자가 있는지 없는지 검사하고 없으면 append\n",
        "    flag = False # 겹치는 숫자가 없다. == False\n",
        "    for k in game:\n",
        "      if k==x:\n",
        "        flag = True\n",
        "        break\n",
        "\n",
        "    if flag == False:\n",
        "      game.append(x)\n",
        "\n",
        "  return game"
      ],
      "metadata": {
        "id": "rUF_Exro9tTa"
      },
      "execution_count": 15,
      "outputs": []
    },
    {
      "cell_type": "code",
      "source": [
        "lottery()"
      ],
      "metadata": {
        "colab": {
          "base_uri": "https://localhost:8080/"
        },
        "id": "DBJvokOkBLYW",
        "outputId": "f9810ce8-7cf6-46a6-a4c3-b494ac3643ad"
      },
      "execution_count": 16,
      "outputs": [
        {
          "output_type": "execute_result",
          "data": {
            "text/plain": [
              "[32, 30, 22, 39, 31, 21]"
            ]
          },
          "metadata": {},
          "execution_count": 16
        }
      ]
    },
    {
      "cell_type": "code",
      "source": [
        "import random\n",
        "\n",
        "def lottery():\n",
        "  game = []\n",
        "  while len(game) < 6:\n",
        "  # for i in range(6):\n",
        "    x = random.randrange(1, 46)\n",
        "    # # game 안에 숫자가 있는지 없는지 검사하고 없으면 append\n",
        "    # flag = False # 겹치는 숫자가 없다. == False\n",
        "    # for k in game:\n",
        "    #   if k==x:\n",
        "    #     flag = True\n",
        "    #     break\n",
        "\n",
        "    # if flag == False:\n",
        "    #   game.append(x)\n",
        "\n",
        "    # if not (x in game):\n",
        "    if x not in game:\n",
        "      game.append(x)\n",
        "\n",
        "  return game"
      ],
      "metadata": {
        "id": "juwQhiAQBNLO"
      },
      "execution_count": 17,
      "outputs": []
    },
    {
      "cell_type": "code",
      "source": [
        "lottery()"
      ],
      "metadata": {
        "colab": {
          "base_uri": "https://localhost:8080/"
        },
        "id": "thdaqR_yCjdw",
        "outputId": "00e8cefa-1243-4740-8c71-2bd73a5dd25e"
      },
      "execution_count": 18,
      "outputs": [
        {
          "output_type": "execute_result",
          "data": {
            "text/plain": [
              "[40, 18, 36, 33, 9, 13]"
            ]
          },
          "metadata": {},
          "execution_count": 18
        }
      ]
    },
    {
      "cell_type": "markdown",
      "source": [
        "### class"
      ],
      "metadata": {
        "id": "l1c_pxjeHs6Z"
      }
    },
    {
      "cell_type": "code",
      "source": [
        "class Person:\n",
        "  def __init__(self, n, h, w):\n",
        "    print(\"call __init__\")\n",
        "    # 속성\n",
        "    self.name = n\n",
        "    self.height = h\n",
        "    self.weight = w\n",
        "\n",
        "    # self 를 붙여야 한다.\n",
        "    # foo = 'bar'\n",
        "\n",
        "  # 메소드, 내부 함수\n",
        "  def speed(self):\n",
        "    return (self.height / self.weight) * 5"
      ],
      "metadata": {
        "id": "1UnJ-olrHuT2"
      },
      "execution_count": 25,
      "outputs": []
    },
    {
      "cell_type": "code",
      "source": [
        "p1 = Person('Tom', 175, 65)\n",
        "\n",
        "p1.name, p1.height, p1.weight, p1.speed()"
      ],
      "metadata": {
        "colab": {
          "base_uri": "https://localhost:8080/"
        },
        "id": "LkjrfMkeIaPM",
        "outputId": "fb188118-1822-49da-cdde-460369228943"
      },
      "execution_count": 28,
      "outputs": [
        {
          "output_type": "stream",
          "name": "stdout",
          "text": [
            "call __init__\n"
          ]
        },
        {
          "output_type": "execute_result",
          "data": {
            "text/plain": [
              "('Tom', 175, 65, 13.461538461538463)"
            ]
          },
          "metadata": {},
          "execution_count": 28
        }
      ]
    },
    {
      "cell_type": "code",
      "source": [
        "p2 = Person('lison', 180, 95)\n",
        "\n",
        "p2.name, p2.height, p2.weight, p2.speed()"
      ],
      "metadata": {
        "colab": {
          "base_uri": "https://localhost:8080/"
        },
        "id": "86ymsAw2Ia-Q",
        "outputId": "831bc375-7f1c-4d82-8a43-fa9ba01b381b"
      },
      "execution_count": 29,
      "outputs": [
        {
          "output_type": "stream",
          "name": "stdout",
          "text": [
            "call __init__\n"
          ]
        },
        {
          "output_type": "execute_result",
          "data": {
            "text/plain": [
              "('lison', 180, 95, 9.473684210526315)"
            ]
          },
          "metadata": {},
          "execution_count": 29
        }
      ]
    },
    {
      "cell_type": "code",
      "source": [
        "# 2차 함수\n",
        "class Poly2:\n",
        "  def __init__(self, a, b, c):\n",
        "    # ax^2 + bx + c\n",
        "    self.a = a\n",
        "    self.b = b\n",
        "    self.c = c\n",
        "\n",
        "  def forward(self, x):\n",
        "    return self.a*x**2 + self.b*x + self.c\n",
        "\n",
        "poly1 = Poly2(3, 2, 1)\n",
        "poly1.forward(10)"
      ],
      "metadata": {
        "colab": {
          "base_uri": "https://localhost:8080/"
        },
        "id": "hHSX77YhJZ84",
        "outputId": "50576c88-abb4-4e0b-a901-0163dc15acd8"
      },
      "execution_count": 31,
      "outputs": [
        {
          "output_type": "execute_result",
          "data": {
            "text/plain": [
              "321"
            ]
          },
          "metadata": {},
          "execution_count": 31
        }
      ]
    }
  ]
}