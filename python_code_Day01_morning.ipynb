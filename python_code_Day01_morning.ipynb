{
  "nbformat": 4,
  "nbformat_minor": 0,
  "metadata": {
    "colab": {
      "provenance": [],
      "include_colab_link": true
    },
    "kernelspec": {
      "name": "python3",
      "display_name": "Python 3"
    },
    "language_info": {
      "name": "python"
    }
  },
  "cells": [
    {
      "cell_type": "markdown",
      "metadata": {
        "id": "view-in-github",
        "colab_type": "text"
      },
      "source": [
        "<a href=\"https://colab.research.google.com/github/student-rabbit/advancedDataPractice/blob/main/python_code_Day01_morning.ipynb\" target=\"_parent\"><img src=\"https://colab.research.google.com/assets/colab-badge.svg\" alt=\"Open In Colab\"/></a>"
      ]
    },
    {
      "cell_type": "markdown",
      "source": [
        "### 주석"
      ],
      "metadata": {
        "id": "DsNTYrUL23k_"
      }
    },
    {
      "cell_type": "code",
      "execution_count": null,
      "metadata": {
        "colab": {
          "base_uri": "https://localhost:8080/"
        },
        "id": "mRYEc_SE1xEG",
        "outputId": "c1c0a827-17d4-40d1-9103-cc760c5ddb9d"
      },
      "outputs": [
        {
          "output_type": "stream",
          "name": "stdout",
          "text": [
            "Hello, Python!\n"
          ]
        }
      ],
      "source": [
        "# 아래 코드는 화면에 Hello Python을 출력합니다.\n",
        "# '#' 기호 다음부터 나오는 문자들은 주석 처리 됩니다\n",
        "# 주석은 코드를 실행할때 무시됩니다.\n",
        "# 여러줄 주석처리: ctrl + /\n",
        "print(\"Hello, Python!\")"
      ]
    },
    {
      "cell_type": "markdown",
      "source": [
        "### print()"
      ],
      "metadata": {
        "id": "5Ca1CO1V25Vt"
      }
    },
    {
      "cell_type": "code",
      "source": [
        "# 화면에 출력할 내용을 \"\" 로 감싸서 print()에 적음\n",
        "print(\"Hello, Colab!\")"
      ],
      "metadata": {
        "colab": {
          "base_uri": "https://localhost:8080/"
        },
        "id": "g2qKg68H2Izt",
        "outputId": "13f0bc43-5749-408a-9bc8-97a16517d206"
      },
      "execution_count": null,
      "outputs": [
        {
          "output_type": "stream",
          "name": "stdout",
          "text": [
            "Hello, Colab!\n"
          ]
        }
      ]
    },
    {
      "cell_type": "markdown",
      "source": [
        "### error 메세지"
      ],
      "metadata": {
        "id": "ZhH6gzrB3SHo"
      }
    },
    {
      "cell_type": "code",
      "source": [
        "print(\"Hello, Colab!)"
      ],
      "metadata": {
        "colab": {
          "base_uri": "https://localhost:8080/",
          "height": 132
        },
        "id": "sT4p7FIj3Aii",
        "outputId": "25c2c5c7-3f38-438d-f234-715e378f19e6"
      },
      "execution_count": null,
      "outputs": [
        {
          "output_type": "error",
          "ename": "SyntaxError",
          "evalue": "unterminated string literal (detected at line 1) (<ipython-input-10-c820504676bb>, line 1)",
          "traceback": [
            "\u001b[0;36m  File \u001b[0;32m\"<ipython-input-10-c820504676bb>\"\u001b[0;36m, line \u001b[0;32m1\u001b[0m\n\u001b[0;31m    print(\"Hello, Colab!)\u001b[0m\n\u001b[0m          ^\u001b[0m\n\u001b[0;31mSyntaxError\u001b[0m\u001b[0;31m:\u001b[0m unterminated string literal (detected at line 1)\n"
          ]
        }
      ]
    },
    {
      "cell_type": "code",
      "source": [
        "print(Hello, Colab!)"
      ],
      "metadata": {
        "colab": {
          "base_uri": "https://localhost:8080/",
          "height": 132
        },
        "id": "8sgPr_Ai3dDh",
        "outputId": "c0a64687-c082-470c-ce18-427e3eb98cd7"
      },
      "execution_count": null,
      "outputs": [
        {
          "output_type": "error",
          "ename": "SyntaxError",
          "evalue": "invalid syntax (<ipython-input-11-f1e0e0d57442>, line 1)",
          "traceback": [
            "\u001b[0;36m  File \u001b[0;32m\"<ipython-input-11-f1e0e0d57442>\"\u001b[0;36m, line \u001b[0;32m1\u001b[0m\n\u001b[0;31m    print(Hello, Colab!)\u001b[0m\n\u001b[0m                      ^\u001b[0m\n\u001b[0;31mSyntaxError\u001b[0m\u001b[0;31m:\u001b[0m invalid syntax\n"
          ]
        }
      ]
    },
    {
      "cell_type": "code",
      "source": [
        "print \"Hello, Python\""
      ],
      "metadata": {
        "colab": {
          "base_uri": "https://localhost:8080/",
          "height": 112
        },
        "id": "dp4eMeIn4Job",
        "outputId": "dbfb6c1f-dfb8-4079-cf09-8eab616ab4ab"
      },
      "execution_count": null,
      "outputs": [
        {
          "output_type": "error",
          "ename": "SyntaxError",
          "evalue": "Missing parentheses in call to 'print'. Did you mean print(...)? (<ipython-input-2-b23dfe3a0bc8>, line 1)",
          "traceback": [
            "\u001b[0;36m  File \u001b[0;32m\"<ipython-input-2-b23dfe3a0bc8>\"\u001b[0;36m, line \u001b[0;32m1\u001b[0m\n\u001b[0;31m    print \"Hello, Python\"\u001b[0m\n\u001b[0m    ^\u001b[0m\n\u001b[0;31mSyntaxError\u001b[0m\u001b[0;31m:\u001b[0m Missing parentheses in call to 'print'. Did you mean print(...)?\n"
          ]
        }
      ]
    },
    {
      "cell_type": "code",
      "source": [
        "print(Hello)"
      ],
      "metadata": {
        "colab": {
          "base_uri": "https://localhost:8080/",
          "height": 169
        },
        "id": "40xAxLup3hJE",
        "outputId": "062e6e5a-dd1c-4de3-a1cd-ad7e247c54b5"
      },
      "execution_count": null,
      "outputs": [
        {
          "output_type": "error",
          "ename": "NameError",
          "evalue": "name 'Hello' is not defined",
          "traceback": [
            "\u001b[0;31m---------------------------------------------------------------------------\u001b[0m",
            "\u001b[0;31mNameError\u001b[0m                                 Traceback (most recent call last)",
            "\u001b[0;32m<ipython-input-8-85bf5114fa6b>\u001b[0m in \u001b[0;36m<cell line: 1>\u001b[0;34m()\u001b[0m\n\u001b[0;32m----> 1\u001b[0;31m \u001b[0mprint\u001b[0m\u001b[0;34m(\u001b[0m\u001b[0mHello\u001b[0m\u001b[0;34m)\u001b[0m\u001b[0;34m\u001b[0m\u001b[0;34m\u001b[0m\u001b[0m\n\u001b[0m",
            "\u001b[0;31mNameError\u001b[0m: name 'Hello' is not defined"
          ]
        }
      ]
    },
    {
      "cell_type": "markdown",
      "source": [
        "### ex-01"
      ],
      "metadata": {
        "id": "G7tj_IIZ4kqO"
      }
    },
    {
      "cell_type": "code",
      "source": [
        "# 화면에 \"오늘날짜는 00월 00일입니다\"\n",
        "\n",
        "print(\"오늘 날짜는 7월 22일 입니다.\")"
      ],
      "metadata": {
        "colab": {
          "base_uri": "https://localhost:8080/"
        },
        "id": "JuOXPVRJ3kCD",
        "outputId": "81afe76b-cf69-48d6-884f-241a8c61c623"
      },
      "execution_count": null,
      "outputs": [
        {
          "output_type": "stream",
          "name": "stdout",
          "text": [
            "오늘 날짜는 7월 22일 입니다.\n"
          ]
        }
      ]
    },
    {
      "cell_type": "markdown",
      "source": [
        "### ex-02"
      ],
      "metadata": {
        "id": "9DU_54-A9v31"
      }
    },
    {
      "cell_type": "code",
      "source": [
        "print(\"오늘 날짜는 7월 22일 입니다.\")\n",
        "print(\"내일 날짜는 7월 23일 입니다.\")"
      ],
      "metadata": {
        "id": "0OMjWirU5JjP",
        "colab": {
          "base_uri": "https://localhost:8080/"
        },
        "outputId": "382525f6-0c21-45ae-db44-6b5da795757f"
      },
      "execution_count": null,
      "outputs": [
        {
          "output_type": "stream",
          "name": "stdout",
          "text": [
            "오늘 날짜는 7월 22일 입니다.\n",
            "내일 날짜는 7월 23일 입니다.\n"
          ]
        }
      ]
    },
    {
      "cell_type": "markdown",
      "source": [
        "### 변수"
      ],
      "metadata": {
        "id": "Ory7xwhe_BWo"
      }
    },
    {
      "cell_type": "code",
      "source": [
        "a = 7 # 변수 = 값"
      ],
      "metadata": {
        "id": "yq3FufnI90rP"
      },
      "execution_count": null,
      "outputs": []
    },
    {
      "cell_type": "code",
      "source": [
        "7 = a"
      ],
      "metadata": {
        "colab": {
          "base_uri": "https://localhost:8080/",
          "height": 112
        },
        "id": "uipneN9r_Fcp",
        "outputId": "2acadf55-cccd-4243-acb2-c356782cb236"
      },
      "execution_count": null,
      "outputs": [
        {
          "output_type": "error",
          "ename": "SyntaxError",
          "evalue": "cannot assign to literal here. Maybe you meant '==' instead of '='? (<ipython-input-4-409be5c547e9>, line 1)",
          "traceback": [
            "\u001b[0;36m  File \u001b[0;32m\"<ipython-input-4-409be5c547e9>\"\u001b[0;36m, line \u001b[0;32m1\u001b[0m\n\u001b[0;31m    7 = a\u001b[0m\n\u001b[0m    ^\u001b[0m\n\u001b[0;31mSyntaxError\u001b[0m\u001b[0;31m:\u001b[0m cannot assign to literal here. Maybe you meant '==' instead of '='?\n"
          ]
        }
      ]
    },
    {
      "cell_type": "code",
      "source": [
        "# 변수 - 오른쪽에서 왼쪽으로 대입\n",
        "# 7 = a => 오류 발생\n",
        "a = 7"
      ],
      "metadata": {
        "id": "4vxgHzeE1bd1"
      },
      "execution_count": 1,
      "outputs": []
    },
    {
      "cell_type": "code",
      "source": [
        "# 변수 대소문자 구분\n",
        "foo = 10\n",
        "Foo = 20\n",
        "\n",
        "foo, Foo"
      ],
      "metadata": {
        "colab": {
          "base_uri": "https://localhost:8080/"
        },
        "id": "qnyL29pi_Ppw",
        "outputId": "69f89ffa-627f-43a8-acd4-7c12adf5614b"
      },
      "execution_count": null,
      "outputs": [
        {
          "output_type": "execute_result",
          "data": {
            "text/plain": [
              "(10, 20)"
            ]
          },
          "metadata": {},
          "execution_count": 6
        }
      ]
    },
    {
      "cell_type": "code",
      "source": [
        "# 변수는 숫자로 시작 안됨\n",
        "1_foo = 100 # 에러\n",
        "foo_1 = 100 # 가능"
      ],
      "metadata": {
        "colab": {
          "base_uri": "https://localhost:8080/",
          "height": 112
        },
        "id": "-1qVYXdp_nwh",
        "outputId": "397c298f-b90b-4ed2-87b2-3f39f1f72cec"
      },
      "execution_count": null,
      "outputs": [
        {
          "output_type": "error",
          "ename": "SyntaxError",
          "evalue": "invalid decimal literal (<ipython-input-8-6d4b7848c7aa>, line 2)",
          "traceback": [
            "\u001b[0;36m  File \u001b[0;32m\"<ipython-input-8-6d4b7848c7aa>\"\u001b[0;36m, line \u001b[0;32m2\u001b[0m\n\u001b[0;31m    1_foo = 100\u001b[0m\n\u001b[0m     ^\u001b[0m\n\u001b[0;31mSyntaxError\u001b[0m\u001b[0;31m:\u001b[0m invalid decimal literal\n"
          ]
        }
      ]
    },
    {
      "cell_type": "markdown",
      "source": [
        "### ex-05"
      ],
      "metadata": {
        "id": "QQYg4JUs_9GL"
      }
    },
    {
      "cell_type": "code",
      "source": [
        "foo = 10\n",
        "bar = 20\n",
        "egg = \"egg\"\n",
        "\n",
        "print(foo, bar, egg, 100, 1000)"
      ],
      "metadata": {
        "colab": {
          "base_uri": "https://localhost:8080/"
        },
        "id": "EgZ48jgJ_wBX",
        "outputId": "10108f66-71b3-4a11-e057-5e5d689c2cd9"
      },
      "execution_count": null,
      "outputs": [
        {
          "output_type": "stream",
          "name": "stdout",
          "text": [
            "10 20 egg 100 1000\n"
          ]
        }
      ]
    },
    {
      "cell_type": "markdown",
      "source": [
        "### print(): sep, end"
      ],
      "metadata": {
        "id": "g44aPj_BA4w0"
      }
    },
    {
      "cell_type": "code",
      "source": [
        "print(10,        20, sep=':::::')"
      ],
      "metadata": {
        "colab": {
          "base_uri": "https://localhost:8080/"
        },
        "id": "LGvJyRG9AfgU",
        "outputId": "ad7dfc63-e1fe-4655-a837-56505fdecd1e"
      },
      "execution_count": null,
      "outputs": [
        {
          "output_type": "stream",
          "name": "stdout",
          "text": [
            "10:::::20\n"
          ]
        }
      ]
    },
    {
      "cell_type": "code",
      "source": [
        "print(10, end=' ') # \\n: 줄바꿈 문자\n",
        "print(20)"
      ],
      "metadata": {
        "colab": {
          "base_uri": "https://localhost:8080/"
        },
        "id": "lNof8X2wA8db",
        "outputId": "2af220bb-0122-4d7d-abcd-a00c046a4269"
      },
      "execution_count": null,
      "outputs": [
        {
          "output_type": "stream",
          "name": "stdout",
          "text": [
            "10 20\n"
          ]
        }
      ]
    },
    {
      "cell_type": "markdown",
      "source": [
        "### 값: 숫자(int, float)"
      ],
      "metadata": {
        "id": "56W5P-KJBz-Z"
      }
    },
    {
      "cell_type": "code",
      "source": [
        "a = 10\n",
        "b = 10.1\n",
        "\n",
        "type(a), type(b)"
      ],
      "metadata": {
        "colab": {
          "base_uri": "https://localhost:8080/"
        },
        "id": "WLUo8NDgBLy_",
        "outputId": "196ef2f5-1e02-489e-b828-13d0e5be5359"
      },
      "execution_count": null,
      "outputs": [
        {
          "output_type": "execute_result",
          "data": {
            "text/plain": [
              "(int, float)"
            ]
          },
          "metadata": {},
          "execution_count": 22
        }
      ]
    },
    {
      "cell_type": "code",
      "source": [
        "# 연산자\n",
        "10 / 3, 10 // 3, 10 % 3, 10 ** 3"
      ],
      "metadata": {
        "colab": {
          "base_uri": "https://localhost:8080/"
        },
        "id": "okKTIf4KB8io",
        "outputId": "ebc435f7-9a82-4faf-94cb-be12b982bbad"
      },
      "execution_count": 3,
      "outputs": [
        {
          "output_type": "execute_result",
          "data": {
            "text/plain": [
              "(3.3333333333333335, 3, 1, 1000)"
            ]
          },
          "metadata": {},
          "execution_count": 3
        }
      ]
    },
    {
      "cell_type": "markdown",
      "source": [
        "### ex-06"
      ],
      "metadata": {
        "id": "UDtBQ7QRCkAv"
      }
    },
    {
      "cell_type": "code",
      "source": [
        "# print(\"5 x 1 =\", 5*1)\n",
        "# print(\"5 x 2 =\", 5*2)\n",
        "\n",
        "x = 5\n",
        "print(x)\n",
        "\n",
        "x = x + 5   # 10을 반환\n",
        "print(x) # 10\n",
        "\n",
        "x = x + 5\n",
        "print(x)\n",
        "\n",
        "x = x + 5\n",
        "print(x)\n",
        "\n",
        "x = x + 5\n",
        "print(x)\n",
        "\n",
        "x = x + 5\n",
        "print(x)\n",
        "\n",
        "x = x + 5\n",
        "print(x)\n",
        "\n",
        "x = x + 5\n",
        "print(x)\n",
        "\n",
        "x = x + 5\n",
        "print(x)"
      ],
      "metadata": {
        "colab": {
          "base_uri": "https://localhost:8080/"
        },
        "id": "3nDNLdTmCPry",
        "outputId": "d8ca8252-187c-4214-e0b8-c640535fbfb5"
      },
      "execution_count": 2,
      "outputs": [
        {
          "output_type": "stream",
          "name": "stdout",
          "text": [
            "5\n",
            "10\n",
            "15\n",
            "20\n",
            "25\n",
            "30\n",
            "35\n",
            "40\n",
            "45\n"
          ]
        }
      ]
    },
    {
      "cell_type": "markdown",
      "source": [
        "### 값: 문자열"
      ],
      "metadata": {
        "id": "hv1lsI1ZEOIE"
      }
    },
    {
      "cell_type": "code",
      "source": [
        "s = \"string\"\n",
        "type(s)"
      ],
      "metadata": {
        "colab": {
          "base_uri": "https://localhost:8080/"
        },
        "id": "eSdbWIJ1F7rr",
        "outputId": "4ecc652a-645d-4993-8d60-a549d72768dd"
      },
      "execution_count": 5,
      "outputs": [
        {
          "output_type": "execute_result",
          "data": {
            "text/plain": [
              "str"
            ]
          },
          "metadata": {},
          "execution_count": 5
        }
      ]
    },
    {
      "cell_type": "code",
      "source": [
        "s = \"Hello, Python\"\n",
        "print(s)"
      ],
      "metadata": {
        "colab": {
          "base_uri": "https://localhost:8080/"
        },
        "id": "i88Nncq1Co0F",
        "outputId": "e714fb22-34a0-4937-c89a-6944bf6f8a31"
      },
      "execution_count": 6,
      "outputs": [
        {
          "output_type": "stream",
          "name": "stdout",
          "text": [
            "Hello, Python\n"
          ]
        }
      ]
    },
    {
      "cell_type": "code",
      "source": [
        "s = 'Hello, Python'\n",
        "print(s)"
      ],
      "metadata": {
        "colab": {
          "base_uri": "https://localhost:8080/"
        },
        "id": "bJQA_ZiqEX5j",
        "outputId": "9a90a184-172f-4d36-826f-be4df8ce043c"
      },
      "execution_count": 7,
      "outputs": [
        {
          "output_type": "stream",
          "name": "stdout",
          "text": [
            "Hello, Python\n"
          ]
        }
      ]
    },
    {
      "cell_type": "code",
      "source": [
        "s = \"Hello, Python'\n",
        "print(s)"
      ],
      "metadata": {
        "colab": {
          "base_uri": "https://localhost:8080/",
          "height": 112
        },
        "id": "mydBAqLOEbLA",
        "outputId": "4dafb384-cc5d-453c-e0b5-9c3b1b6d7193"
      },
      "execution_count": 8,
      "outputs": [
        {
          "output_type": "error",
          "ename": "SyntaxError",
          "evalue": "unterminated string literal (detected at line 1) (<ipython-input-8-333dbf8b30e2>, line 1)",
          "traceback": [
            "\u001b[0;36m  File \u001b[0;32m\"<ipython-input-8-333dbf8b30e2>\"\u001b[0;36m, line \u001b[0;32m1\u001b[0m\n\u001b[0;31m    s = \"Hello, Python'\u001b[0m\n\u001b[0m        ^\u001b[0m\n\u001b[0;31mSyntaxError\u001b[0m\u001b[0;31m:\u001b[0m unterminated string literal (detected at line 1)\n"
          ]
        }
      ]
    },
    {
      "cell_type": "code",
      "source": [
        "s = \"Hello, 'Python'\"\n",
        "print(s)"
      ],
      "metadata": {
        "colab": {
          "base_uri": "https://localhost:8080/"
        },
        "id": "LbiBMsymEdOJ",
        "outputId": "2e478f3f-31e8-4e17-ec58-ffb20d34f3c0"
      },
      "execution_count": null,
      "outputs": [
        {
          "output_type": "stream",
          "name": "stdout",
          "text": [
            "Hello, 'Python'\n"
          ]
        }
      ]
    },
    {
      "cell_type": "code",
      "source": [
        "s = 'Hello, \"Python\"'\n",
        "s = \"Hello, \\\"Python\\\"\"\n",
        "print(s)"
      ],
      "metadata": {
        "colab": {
          "base_uri": "https://localhost:8080/"
        },
        "id": "-tNmQsfsEgXv",
        "outputId": "7ca32d2a-9337-4d4f-ed81-248eec2673fd"
      },
      "execution_count": null,
      "outputs": [
        {
          "output_type": "stream",
          "name": "stdout",
          "text": [
            "Hello, \"Python\"\n"
          ]
        }
      ]
    },
    {
      "cell_type": "markdown",
      "source": [
        "### 문자열 더하기 함수"
      ],
      "metadata": {
        "id": "imztBTKtBtqF"
      }
    },
    {
      "cell_type": "code",
      "source": [
        "p1 = '철수'\n",
        "p2 = '여울'\n",
        "\n",
        "print(p1 + '는' + p2 + ' 과 친하다')"
      ],
      "metadata": {
        "colab": {
          "base_uri": "https://localhost:8080/"
        },
        "id": "4gjz5C6zBx5G",
        "outputId": "ea9d7d4d-dfab-46f5-e88e-96c53fce6151"
      },
      "execution_count": null,
      "outputs": [
        {
          "output_type": "stream",
          "name": "stdout",
          "text": [
            "철수는여울 과 친하다\n"
          ]
        }
      ]
    },
    {
      "cell_type": "code",
      "source": [
        "p1 = '철수'\n",
        "p2 = '여울'\n",
        "\n",
        "print('%s는 %s과 친하다' %(p1, p2))"
      ],
      "metadata": {
        "colab": {
          "base_uri": "https://localhost:8080/"
        },
        "id": "K0ogKmfECC0F",
        "outputId": "8f4efca5-deb0-4382-ddf3-4d5614e56ca2"
      },
      "execution_count": null,
      "outputs": [
        {
          "output_type": "stream",
          "name": "stdout",
          "text": [
            "철수는 여울과 친하다\n"
          ]
        }
      ]
    },
    {
      "cell_type": "code",
      "source": [
        "p1 = '철수'\n",
        "p2 = '여울'\n",
        "\n",
        "print('{}는 {}과 친하다' .format(p1, p2))"
      ],
      "metadata": {
        "colab": {
          "base_uri": "https://localhost:8080/"
        },
        "id": "S6KU7EZNCCpe",
        "outputId": "6e1560ad-2968-4606-9928-e71e2daebd2c"
      },
      "execution_count": null,
      "outputs": [
        {
          "output_type": "stream",
          "name": "stdout",
          "text": [
            "철수는 여울과 친하다\n"
          ]
        }
      ]
    },
    {
      "cell_type": "markdown",
      "source": [
        "### f-string"
      ],
      "metadata": {
        "id": "omqvFTQHEwoI"
      }
    },
    {
      "cell_type": "code",
      "source": [
        "# 직관적이고 가독성이 뛰어나다.\n",
        "# 기존의 다른 표현식과 거의 차이가 없는 실행 속도\n",
        "foo = 10\n",
        "\n",
        "print(\"foo의 값은\",10,\"입니다.\")\n",
        "print(f\"foo의 값은 {foo}입니다.\")"
      ],
      "metadata": {
        "colab": {
          "base_uri": "https://localhost:8080/"
        },
        "id": "bjscisfPEin6",
        "outputId": "9e2a49db-0e85-462c-9122-9b8a6e0a2729"
      },
      "execution_count": 9,
      "outputs": [
        {
          "output_type": "stream",
          "name": "stdout",
          "text": [
            "foo의 값은 10 입니다.\n",
            "foo의 값은 10입니다.\n"
          ]
        }
      ]
    },
    {
      "cell_type": "markdown",
      "source": [
        "### 문자열 연산"
      ],
      "metadata": {
        "id": "l8KB8KhhFnYS"
      }
    },
    {
      "cell_type": "code",
      "source": [
        "lang = 'python'\n",
        "version = '3.10'\n",
        "\n",
        "lang + ' ' + version"
      ],
      "metadata": {
        "colab": {
          "base_uri": "https://localhost:8080/",
          "height": 36
        },
        "id": "aPggNAcaE6Ne",
        "outputId": "68671ab2-5e95-43a0-f77c-b82cc0e58b53"
      },
      "execution_count": null,
      "outputs": [
        {
          "output_type": "execute_result",
          "data": {
            "text/plain": [
              "'python 3.10'"
            ],
            "application/vnd.google.colaboratory.intrinsic+json": {
              "type": "string"
            }
          },
          "metadata": {},
          "execution_count": 61
        }
      ]
    },
    {
      "cell_type": "code",
      "source": [
        "lang * 3 # str * int"
      ],
      "metadata": {
        "colab": {
          "base_uri": "https://localhost:8080/",
          "height": 36
        },
        "id": "jPcGB-AFFsY6",
        "outputId": "d2d39ab7-7b2b-4a66-c3cd-aa9047e9a6db"
      },
      "execution_count": null,
      "outputs": [
        {
          "output_type": "execute_result",
          "data": {
            "text/plain": [
              "'pythonpythonpython'"
            ],
            "application/vnd.google.colaboratory.intrinsic+json": {
              "type": "string"
            }
          },
          "metadata": {},
          "execution_count": 64
        }
      ]
    },
    {
      "cell_type": "markdown",
      "source": [
        "### ex-07"
      ],
      "metadata": {
        "id": "ds9jOmILLB0q"
      }
    },
    {
      "cell_type": "code",
      "source": [
        "lang1 = \"Python\"\n",
        "lang2 = \"C++\"\n",
        "lang3 = \"Java\"\n",
        "lang4 = \"Pascal\"\n",
        "\n",
        "author1 = \"Guido van Rossum\"\n",
        "author2 = \"Bjarne Stroustrup\"\n",
        "author3 = \"Jame Gosling\"\n",
        "author4 = \"Niklaus Wirth\"\n",
        "\n",
        "print(\"#\"*25)\n",
        "print(lang1, \":\", author1)\n",
        "print(lang2 + ' : ' + author2)\n",
        "print(lang3 + ' : ' + author3)\n",
        "print(lang4 + ' : ' + author4)\n",
        "print(\"#\"*25)"
      ],
      "metadata": {
        "colab": {
          "base_uri": "https://localhost:8080/"
        },
        "id": "9Y3zeHnjFxy7",
        "outputId": "24cb5548-72e9-4fe0-c218-496b058b8565"
      },
      "execution_count": null,
      "outputs": [
        {
          "output_type": "stream",
          "name": "stdout",
          "text": [
            "#########################\n",
            "Python : Guido van Rossum\n",
            "C++ : Bjarne Stroustrup\n",
            "Java : Jame Gosling\n",
            "Pascal : Niklaus Wirth\n",
            "#########################\n"
          ]
        }
      ]
    },
    {
      "cell_type": "code",
      "source": [
        "print(\"#\"*27)\n",
        "print(f\"{lang1:>6}\", author1, sep=' : ')\n",
        "print(f\"{lang2:>6}\", author2, sep=' : ')\n",
        "print(f\"{lang3:>6}\", author3, sep=' : ')\n",
        "print(f\"{lang4:>6}\", author4, sep=' : ')\n",
        "print(\"#\"*27)"
      ],
      "metadata": {
        "colab": {
          "base_uri": "https://localhost:8080/"
        },
        "id": "tKtztfm9LX5c",
        "outputId": "8efabe14-ff4e-4656-a148-91e0a0a5549a"
      },
      "execution_count": null,
      "outputs": [
        {
          "output_type": "stream",
          "name": "stdout",
          "text": [
            "###########################\n",
            "Python : Guido van Rossum\n",
            "   C++ : Bjarne Stroustrup\n",
            "  Java : Jame Gosling\n",
            "Pascal : Niklaus Wirth\n",
            "###########################\n"
          ]
        }
      ]
    },
    {
      "cell_type": "markdown",
      "source": [
        "### input()"
      ],
      "metadata": {
        "id": "S24S-cF8NnkS"
      }
    },
    {
      "cell_type": "code",
      "source": [
        "c = input(\"입력하세요: \")\n",
        "print(c)"
      ],
      "metadata": {
        "colab": {
          "base_uri": "https://localhost:8080/"
        },
        "id": "RW0xEK62LwN4",
        "outputId": "7f196de1-e7fd-44ce-e570-25bff5c94d9e"
      },
      "execution_count": null,
      "outputs": [
        {
          "output_type": "stream",
          "name": "stdout",
          "text": [
            "입력하세오: python\n",
            "python\n"
          ]
        }
      ]
    },
    {
      "cell_type": "markdown",
      "source": [
        "### ex-08"
      ],
      "metadata": {
        "id": "pncb5OQBOP-7"
      }
    },
    {
      "cell_type": "code",
      "source": [
        "name = input(\"이름을 입력하세요.\")\n",
        "color = input(\"좋아하는 색을 입력하세요.\")\n",
        "\n",
        "print(f\"{name}님이 좋아하는 색은 {color}입니다.\")"
      ],
      "metadata": {
        "colab": {
          "base_uri": "https://localhost:8080/"
        },
        "id": "_5uM_8ByNqeO",
        "outputId": "db62111c-ebcb-4257-f657-b52e9438448b"
      },
      "execution_count": null,
      "outputs": [
        {
          "output_type": "stream",
          "name": "stdout",
          "text": [
            "이름을 입력하세요.길동\n",
            "좋아하는 색을 입력하세요.파랑\n",
            "길동님이 좋아하는 색은 파랑입니다.\n"
          ]
        }
      ]
    },
    {
      "cell_type": "markdown",
      "source": [
        "### ex-09"
      ],
      "metadata": {
        "id": "bfozBM-LPeNV"
      }
    },
    {
      "cell_type": "code",
      "source": [
        "a = int( input(\"첫 번째 숫자를 입력하세요: \") )\n",
        "b = int( input(\"두 번째 숫자를 입력하세요: \") )\n",
        "\n",
        "add = a + b\n",
        "sub = a - b\n",
        "mul = a * b\n",
        "div = a / b\n",
        "\n",
        "print(add, sub, mul, div)"
      ],
      "metadata": {
        "colab": {
          "base_uri": "https://localhost:8080/"
        },
        "id": "Ea1PRSOzOYbI",
        "outputId": "8cf67b71-503d-4dcb-8963-81d33887ea0d"
      },
      "execution_count": 10,
      "outputs": [
        {
          "output_type": "stream",
          "name": "stdout",
          "text": [
            "첫 번째 숫자를 입력하세요: 10\n",
            "두 번째 숫자를 입력하세요: 20\n",
            "30 -10 200 0.5\n"
          ]
        }
      ]
    },
    {
      "cell_type": "markdown",
      "source": [
        "### 형변환"
      ],
      "metadata": {
        "id": "1Ske4ishQ-iS"
      }
    },
    {
      "cell_type": "code",
      "source": [
        "int(10.1), int(\"10\"), float(\"10.1\"), str(10)"
      ],
      "metadata": {
        "colab": {
          "base_uri": "https://localhost:8080/"
        },
        "id": "tINMAQLePrbN",
        "outputId": "939bc029-4874-424b-d9f4-e2a5bc6d7d32"
      },
      "execution_count": null,
      "outputs": [
        {
          "output_type": "execute_result",
          "data": {
            "text/plain": [
              "(10, 10, 10.1, '10')"
            ]
          },
          "metadata": {},
          "execution_count": 28
        }
      ]
    },
    {
      "cell_type": "code",
      "source": [
        "10 + 10.1  # int + float -> float + float"
      ],
      "metadata": {
        "colab": {
          "base_uri": "https://localhost:8080/"
        },
        "id": "Mc3-I1ofRBji",
        "outputId": "9f8f699e-c621-4b71-eefd-79ac4d53f3fc"
      },
      "execution_count": null,
      "outputs": [
        {
          "output_type": "execute_result",
          "data": {
            "text/plain": [
              "20.1"
            ]
          },
          "metadata": {},
          "execution_count": 31
        }
      ]
    },
    {
      "cell_type": "markdown",
      "source": [
        "#### value error"
      ],
      "metadata": {
        "id": "Gjv_zAsjSXaE"
      }
    },
    {
      "cell_type": "code",
      "source": [
        "int(\"10.1\")"
      ],
      "metadata": {
        "colab": {
          "base_uri": "https://localhost:8080/",
          "height": 149
        },
        "id": "Y42P1D34SZa5",
        "outputId": "acc59026-d6e8-4f52-ca22-7a220d70abf6"
      },
      "execution_count": null,
      "outputs": [
        {
          "output_type": "error",
          "ename": "ValueError",
          "evalue": "invalid literal for int() with base 10: '10.1'",
          "traceback": [
            "\u001b[0;31m---------------------------------------------------------------------------\u001b[0m",
            "\u001b[0;31mValueError\u001b[0m                                Traceback (most recent call last)",
            "\u001b[0;32m<ipython-input-35-bfd0cad61de8>\u001b[0m in \u001b[0;36m<cell line: 1>\u001b[0;34m()\u001b[0m\n\u001b[0;32m----> 1\u001b[0;31m \u001b[0mint\u001b[0m\u001b[0;34m(\u001b[0m\u001b[0;34m\"10.1\"\u001b[0m\u001b[0;34m)\u001b[0m\u001b[0;34m\u001b[0m\u001b[0;34m\u001b[0m\u001b[0m\n\u001b[0m",
            "\u001b[0;31mValueError\u001b[0m: invalid literal for int() with base 10: '10.1'"
          ]
        }
      ]
    },
    {
      "cell_type": "markdown",
      "source": [
        "### 들여쓰기 에러"
      ],
      "metadata": {
        "id": "MqOA92NgR7tH"
      }
    },
    {
      "cell_type": "code",
      "source": [
        "foo = 10\n",
        "  bar = 20"
      ],
      "metadata": {
        "colab": {
          "base_uri": "https://localhost:8080/",
          "height": 112
        },
        "id": "pPOY2CEoRRQB",
        "outputId": "539abcd9-d22f-481c-eb20-d732bb9d8e8e"
      },
      "execution_count": null,
      "outputs": [
        {
          "output_type": "error",
          "ename": "IndentationError",
          "evalue": "unexpected indent (<ipython-input-34-b2a19ab1f9c8>, line 2)",
          "traceback": [
            "\u001b[0;36m  File \u001b[0;32m\"<ipython-input-34-b2a19ab1f9c8>\"\u001b[0;36m, line \u001b[0;32m2\u001b[0m\n\u001b[0;31m    bar = 20\u001b[0m\n\u001b[0m    ^\u001b[0m\n\u001b[0;31mIndentationError\u001b[0m\u001b[0;31m:\u001b[0m unexpected indent\n"
          ]
        }
      ]
    },
    {
      "cell_type": "markdown",
      "source": [
        "### ex-13"
      ],
      "metadata": {
        "id": "2BAKXRSKS9E3"
      }
    },
    {
      "cell_type": "code",
      "source": [
        "composer1 = 'Beethoven'\n",
        "composer2 = 'Bach'\n",
        "composer3 = 'Mozart'\n",
        "\n",
        "print(f\"I love {composer1}'s Symphony No.3 'Eroica'.\")\n",
        "print(f\"I love {composer2}'s Goldberg Variation.\")\n",
        "print(f\"I love {composer3}'s Die Zauberflöte\")"
      ],
      "metadata": {
        "colab": {
          "base_uri": "https://localhost:8080/"
        },
        "id": "FTxHFCqqR-P5",
        "outputId": "96dbad5d-6028-42c4-fe84-087359aea0f0"
      },
      "execution_count": null,
      "outputs": [
        {
          "output_type": "stream",
          "name": "stdout",
          "text": [
            "I love Beethoven's Symphony No.3 'Eroica'.\n",
            "I love Bach's Goldberg Variation.\n",
            "I love Mozart's Die Zauberflöte\n"
          ]
        }
      ]
    },
    {
      "cell_type": "markdown",
      "source": [
        "### bool"
      ],
      "metadata": {
        "id": "LffrLNeeUrZz"
      }
    },
    {
      "cell_type": "code",
      "source": [
        "foo = True  # true (x)\n",
        "bar = False\n",
        "\n",
        "type(foo), type(bar)"
      ],
      "metadata": {
        "colab": {
          "base_uri": "https://localhost:8080/"
        },
        "id": "oFGAbNvTTEwo",
        "outputId": "124178e7-cc12-4ac3-fcac-f3491f919bd1"
      },
      "execution_count": null,
      "outputs": [
        {
          "output_type": "execute_result",
          "data": {
            "text/plain": [
              "(bool, bool)"
            ]
          },
          "metadata": {},
          "execution_count": 45
        }
      ]
    },
    {
      "cell_type": "markdown",
      "source": [
        "### 비교 연산자"
      ],
      "metadata": {
        "id": "e_j56dbYY7yh"
      }
    },
    {
      "cell_type": "code",
      "source": [
        "a = 10\n",
        "b = 20\n",
        "\n",
        "a == b, a != b, a > b, a < b, a >= b, a <= b"
      ],
      "metadata": {
        "colab": {
          "base_uri": "https://localhost:8080/"
        },
        "id": "eANt7YmvZEZc",
        "outputId": "91d48eff-ab4f-42dd-d086-2d3918d0352a"
      },
      "execution_count": null,
      "outputs": [
        {
          "output_type": "execute_result",
          "data": {
            "text/plain": [
              "(False, True, False, True, False, True)"
            ]
          },
          "metadata": {},
          "execution_count": 1
        }
      ]
    },
    {
      "cell_type": "markdown",
      "source": [
        "### 논리 연산자"
      ],
      "metadata": {
        "id": "KhdoiG7dZU01"
      }
    },
    {
      "cell_type": "code",
      "source": [
        "True and True, True and False"
      ],
      "metadata": {
        "colab": {
          "base_uri": "https://localhost:8080/"
        },
        "id": "OueN2EpRZa6s",
        "outputId": "5a149f57-8d1b-4245-8ac1-ace6c17b9179"
      },
      "execution_count": null,
      "outputs": [
        {
          "output_type": "execute_result",
          "data": {
            "text/plain": [
              "(True, False)"
            ]
          },
          "metadata": {},
          "execution_count": 5
        }
      ]
    },
    {
      "cell_type": "code",
      "source": [
        "True or False"
      ],
      "metadata": {
        "colab": {
          "base_uri": "https://localhost:8080/"
        },
        "id": "wr3ohw_DZfOf",
        "outputId": "8bdfe2b6-b870-4ecc-b9e9-6f91a4ea5d6d"
      },
      "execution_count": null,
      "outputs": [
        {
          "output_type": "execute_result",
          "data": {
            "text/plain": [
              "True"
            ]
          },
          "metadata": {},
          "execution_count": 6
        }
      ]
    },
    {
      "cell_type": "code",
      "source": [
        "not True"
      ],
      "metadata": {
        "colab": {
          "base_uri": "https://localhost:8080/"
        },
        "id": "lALu2pTbZhiG",
        "outputId": "1af90638-d5e1-40d0-bf4b-3380ddcc73a5"
      },
      "execution_count": null,
      "outputs": [
        {
          "output_type": "execute_result",
          "data": {
            "text/plain": [
              "False"
            ]
          },
          "metadata": {},
          "execution_count": 7
        }
      ]
    },
    {
      "cell_type": "markdown",
      "source": [
        "### 조건문(if-else)"
      ],
      "metadata": {
        "id": "0dpJ9apWZ4PW"
      }
    },
    {
      "cell_type": "code",
      "source": [
        "a = -3\n",
        "\n",
        "if a > 0:\n",
        "  print(\"a is positive\")\n",
        "  print(\"True 블록 끝\")\n",
        "else : # else 이하는 옵션\n",
        "  print(\"a is zero or negative\")\n",
        "  print(\"False 블록 끝\")\n",
        "print(\"완료\")"
      ],
      "metadata": {
        "colab": {
          "base_uri": "https://localhost:8080/"
        },
        "id": "Akc41z1_Z8sJ",
        "outputId": "358c4391-0306-4db5-c1e0-c89c429c15da"
      },
      "execution_count": null,
      "outputs": [
        {
          "output_type": "stream",
          "name": "stdout",
          "text": [
            "a is zero or negative\n",
            "False 블록 끝\n",
            "완료\n"
          ]
        }
      ]
    },
    {
      "cell_type": "markdown",
      "source": [
        "### ex-16"
      ],
      "metadata": {
        "id": "awlDbkbBa07f"
      }
    },
    {
      "cell_type": "code",
      "source": [
        "password = \"1234\"\n",
        "\n",
        "user_password = input(\"패스워드 : \")\n",
        "\n",
        "if password == user_password:\n",
        "  print(\"로그인 성공\")\n",
        "else:\n",
        "  print(\"로그인 실패\")"
      ],
      "metadata": {
        "colab": {
          "base_uri": "https://localhost:8080/"
        },
        "id": "hDALYVPpa8an",
        "outputId": "4e3d5778-b247-4e62-8b8e-6b0ca1e3154d"
      },
      "execution_count": null,
      "outputs": [
        {
          "output_type": "stream",
          "name": "stdout",
          "text": [
            "패스워드 : 1234\n",
            "로그인 성공\n"
          ]
        }
      ]
    },
    {
      "cell_type": "markdown",
      "source": [
        "### ex-17"
      ],
      "metadata": {
        "id": "svQUqxN6cFqF"
      }
    },
    {
      "cell_type": "code",
      "source": [
        "height = float(input(\"키(미터) : \"))\n",
        "weight = float(input(\"몸무게(Kg) : \"))\n",
        "\n",
        "bmi = weight / (height**2)\n",
        "\n",
        "if bmi > 25:\n",
        "  print(\"비만\", bmi)\n",
        "elif bmi > 23:\n",
        "  print(\"과체중\", bmi)\n",
        "elif bmi > 18.5:\n",
        "  print(\"정상\", bmi)\n",
        "else:\n",
        "  print(\"저체중\", bmi)"
      ],
      "metadata": {
        "colab": {
          "base_uri": "https://localhost:8080/"
        },
        "id": "hAmgL-RKcKe3",
        "outputId": "adf5da97-8d1d-49dc-9b18-766bd6950148"
      },
      "execution_count": null,
      "outputs": [
        {
          "output_type": "stream",
          "name": "stdout",
          "text": [
            "키(미터) : 1.71\n",
            "몸무게(Kg) : 78\n",
            "비만 26.674874320303687\n"
          ]
        }
      ]
    }
  ]
}